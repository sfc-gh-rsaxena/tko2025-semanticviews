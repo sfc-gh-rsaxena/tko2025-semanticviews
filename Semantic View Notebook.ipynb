{
 "cells": [
  {
   "cell_type": "markdown",
   "id": "b6f59bdd-aebf-40bd-8f4a-4348b71d8680",
   "metadata": {
    "collapsed": false,
    "name": "Introduction"
   },
   "source": [
    "# Introduction\n",
    "\n",
    "A Snowflake Semantic View is a  type of schema-level object in Snowflake that defines a business-friendly data model directly on your tables and views. Then, it can be used by AI and Humans to query data based on business needs.\n",
    "\n",
    "## What is included in the Semantic View Definition?\n",
    "\n",
    "* Logical Tables: These typically correspond to business entities (like CUSTOMER or ORDERS) and reference your underlying physical tables or views.\n",
    "\n",
    "* Relationships: These explicitly define how the logical tables connect to each other (e.g., how the CUSTOMER table links to the ORDERS table via a foreign key).\n",
    "\n",
    "* Dimensions: These are the business-friendly attributes used to group, filter, or provide context to your data (e.g., Customer_Region, Product_Category, Order_Date).\n",
    "\n",
    "* Metrics: These are business-friendly calculations or aggregations that represent Key Performance Indicators (KPIs) (e.g., Total_Sales, Average_Order_Value, Employee_Count). They use underlying data fields, sometimes called Facts, to perform the calculation.\n",
    "\n",
    "## How to use the Semantic View \n",
    "\n",
    "* Go to the **AI & ML** and search Cortex Analytics.\n",
    "* Use special Syntax Query.\n",
    "\n",
    "\n"
   ]
  },
  {
   "cell_type": "markdown",
   "id": "81f18578-de8e-425b-ae0e-2b70114adfbc",
   "metadata": {
    "collapsed": false,
    "name": "Part_1__Create_Data"
   },
   "source": [
    "### Part 1: Create / Use Data to create meaningfull model\n",
    "\n",
    "In this part you will use publicly availabile snowflake Share to create a data. "
   ]
  },
  {
   "cell_type": "code",
   "execution_count": null,
   "id": "3775908f-ca36-4846-8f38-5adca39217f2",
   "metadata": {
    "language": "sql",
    "name": "Part_1__Execute"
   },
   "outputs": [],
   "source": [
    "-- Use public share to create data\n",
    "CREATE DATABASE IF NOT EXISTS SNOWFLAKE_SAMPLE_DATA FROM SHARE SFC_SAMPLES.SAMPLE_DATA;\n",
    "\n",
    "-- Create your Database\n",
    "CREATE DATABASE IF NOT EXISTS TKO_APJ_SEMANTIC_VIEW;\n",
    "USE DATABASE TKO_APJ_SEMANTIC_VIEW;\n",
    "CREATE SCHEMA IF NOT EXISTS TPCDS_SF10TCL;\n",
    "USE SCHEMA TPCDS_SF10TCL;\n",
    "\n",
    "-- Create or replace views for the tables from SNOWFLAKE_SAMPLE_DATA.TPCDS_SF10TCL\n",
    "CREATE OR REPLACE VIEW CUSTOMER AS\n",
    "SELECT * FROM SNOWFLAKE_SAMPLE_DATA.TPCDS_SF10TCL.CUSTOMER;\n",
    "\n",
    "CREATE OR REPLACE VIEW CUSTOMER_DEMOGRAPHICS AS\n",
    "SELECT * FROM SNOWFLAKE_SAMPLE_DATA.TPCDS_SF10TCL.CUSTOMER_DEMOGRAPHICS;\n",
    "\n",
    "CREATE OR REPLACE VIEW DATE_DIM AS\n",
    "SELECT * FROM SNOWFLAKE_SAMPLE_DATA.TPCDS_SF10TCL.DATE_DIM;\n",
    "\n",
    "CREATE OR REPLACE VIEW ITEM AS\n",
    "SELECT * FROM SNOWFLAKE_SAMPLE_DATA.TPCDS_SF10TCL.ITEM;\n",
    "\n",
    "CREATE OR REPLACE VIEW STORE AS\n",
    "SELECT * FROM SNOWFLAKE_SAMPLE_DATA.TPCDS_SF10TCL.STORE;\n",
    "\n",
    "CREATE OR REPLACE VIEW STORE_SALES AS\n",
    "SELECT * FROM SNOWFLAKE_SAMPLE_DATA.TPCDS_SF10TCL.STORE_SALES;\n",
    "\n",
    "-- Query the Data\n",
    "SHOW VIEWS;\n",
    "SELECT * FROM CUSTOMER LIMIT 20;"
   ]
  },
  {
   "cell_type": "markdown",
   "id": "b8b25bb8-fe4e-4c87-8cc5-333d5b7facac",
   "metadata": {
    "collapsed": false,
    "name": "Part_2__Create_View"
   },
   "source": [
    "### Part 2: Create a Semantic View\n",
    "In this part you will create a semantic view that contains, tables, relationships, facts, and dimmensions."
   ]
  },
  {
   "cell_type": "code",
   "execution_count": null,
   "id": "8d50cbf4-0c8d-4950-86cb-114990437ac9",
   "metadata": {
    "language": "sql",
    "name": "Part_2__Execute_1"
   },
   "outputs": [],
   "source": [
    "USE SCHEMA SAMPLE_DATA.TPCDS_SF10TCL;\n",
    "CREATE OR REPLACE SEMANTIC VIEW TPCDS_SEMANTIC_VIEW_SM\n",
    "\ttables (\n",
    "\t\tCUSTOMER primary key (C_CUSTOMER_SK),\n",
    "\t\tDATE as DATE_DIM primary key (D_DATE_SK),\n",
    "\t\tDEMO as CUSTOMER_DEMOGRAPHICS primary key (CD_DEMO_SK),\n",
    "\t\tITEM primary key (I_ITEM_SK),\n",
    "\t\tSTORE primary key (S_STORE_SK),\n",
    "\t\tSTORESALES as STORE_SALES\n",
    "        primary key (SS_SOLD_DATE_SK,SS_CDEMO_SK,SS_ITEM_SK,SS_STORE_SK,SS_CUSTOMER_SK)\n",
    "\t)\n",
    "\trelationships (\n",
    "\t\tSALESTOCUSTOMER as STORESALES(SS_CUSTOMER_SK) references CUSTOMER(C_CUSTOMER_SK),\n",
    "\t\tSALESTODATE as STORESALES(SS_SOLD_DATE_SK) references DATE(D_DATE_SK),\n",
    "\t\tSALESTODEMO as STORESALES(SS_CDEMO_SK) references DEMO(CD_DEMO_SK),\n",
    "\t\tSALESTOITEM as STORESALES(SS_ITEM_SK) references ITEM(I_ITEM_SK),\n",
    "\t\tSALETOSTORE as STORESALES(SS_STORE_SK) references STORE(S_STORE_SK)\n",
    "\t)\n",
    "\tfacts (\n",
    "\t\tITEM.COST as i_wholesale_cost,\n",
    "\t\tITEM.PRICE as i_current_price,\n",
    "\t\tSTORE.TAX_RATE as S_TAX_PRECENTAGE,\n",
    "        STORESALES.SALES_QUANTITY as SS_QUANTITY\n",
    "\t)\n",
    "\tdimensions (\n",
    "\t\tCUSTOMER.BIRTHYEAR as C_BIRTH_YEAR,\n",
    "\t\tCUSTOMER.COUNTRY as C_BIRTH_COUNTRY,\n",
    "\t\tCUSTOMER.C_CUSTOMER_SK as c_customer_sk,\n",
    "\t\tDATE.DATE as D_DATE,\n",
    "\t\tDATE.D_DATE_SK as d_date_sk,\n",
    "\t\tDATE.MONTH as D_MOY,\n",
    "\t\tDATE.WEEK as D_WEEK_SEQ,\n",
    "\t\tDATE.YEAR as D_YEAR,\n",
    "\t\tDEMO.CD_DEMO_SK as cd_demo_sk,\n",
    "\t\tDEMO.CREDIT_RATING as CD_CREDIT_RATING,\n",
    "\t\tDEMO.MARITAL_STATUS as CD_MARITAL_STATUS,\n",
    "\t\tITEM.BRAND as I_BRAND,\n",
    "\t\tITEM.CATEGORY as I_CATEGORY,\n",
    "\t\tITEM.CLASS as I_CLASS,\n",
    "\t\tITEM.I_ITEM_SK as i_item_sk,\n",
    "\t\tSTORE.MARKET as S_MARKET_ID,\n",
    "\t\tSTORE.SQUAREFOOTAGE as S_FLOOR_SPACE,\n",
    "\t\tSTORE.STATE as S_STATE,\n",
    "\t\tSTORE.STORECOUNTRY as S_COUNTRY,\n",
    "\t\tSTORE.S_STORE_SK as s_store_sk,\n",
    "\t\tSTORESALES.SS_CDEMO_SK as ss_cdemo_sk,\n",
    "\t\tSTORESALES.SS_CUSTOMER_SK as ss_customer_sk,\n",
    "\t\tSTORESALES.SS_ITEM_SK as ss_item_sk,\n",
    "\t\tSTORESALES.SS_SOLD_DATE_SK as ss_sold_date_sk,\n",
    "\t\tSTORESALES.SS_STORE_SK as ss_store_sk\n",
    "\t)\n",
    "\tmetrics (\n",
    "\t\tSTORESALES.TOTALCOST as SUM(item.cost),\n",
    "\t\tSTORESALES.TOTALSALESPRICE as SUM(SS_SALES_PRICE),\n",
    "\t\tSTORESALES.TOTALSALESQUANTITY as SUM(SS_QUANTITY)\n",
    "            WITH SYNONYMS = ( 'total sales quantity', 'total sales amount')\n",
    "\t)\n",
    ";\n"
   ]
  },
  {
   "cell_type": "code",
   "execution_count": null,
   "id": "9cf4f038-2b4f-4708-9035-7436db405ed3",
   "metadata": {
    "language": "sql",
    "name": "Part_2__Execute_2"
   },
   "outputs": [],
   "source": [
    "DESC SEMANTIC VIEW TPCDS_SEMANTIC_VIEW_SM;"
   ]
  },
  {
   "cell_type": "code",
   "execution_count": null,
   "id": "3fb5c0f6-fda2-4501-b7c6-9108b0083854",
   "metadata": {
    "language": "sql",
    "name": "Part_2__Execute_3"
   },
   "outputs": [],
   "source": [
    "DESC SEMANTIC VIEW TPCDS_SEMANTIC_VIEW_SM\n",
    "    ->> SELECT \"object_kind\",\"property_value\" as \"parent_object\",\"object_name\" FROM $1\n",
    "        WHERE \"object_kind\" IN ('METRIC','DIMENSION') AND \"property\" IN ('TABLE')\n",
    ";"
   ]
  },
  {
   "cell_type": "markdown",
   "id": "73ddfcf3-2439-469e-b804-fa4ef2ab6009",
   "metadata": {
    "collapsed": false,
    "name": "Part_3__Explore"
   },
   "source": [
    "### Part 3: How you can use a Semantic View"
   ]
  },
  {
   "cell_type": "code",
   "execution_count": null,
   "id": "48551939-98a4-4b2f-baab-e984d38d04f4",
   "metadata": {
    "language": "sql",
    "name": "Part_3__Execute_1"
   },
   "outputs": [],
   "source": [
    "SELECT * FROM SEMANTIC_VIEW\n",
    "( \n",
    " TPCDS_SEMANTIC_VIEW_SM\n",
    "    DIMENSIONS \n",
    "            Item.Brand,\n",
    "            Item.Category,            \n",
    "            Date.Year,\n",
    "            Date.Month,\n",
    "            Store.State\n",
    "    METRICS \n",
    "        StoreSales.TotalSalesQuantity\n",
    "    WHERE\n",
    "        Date.Year = '2002' AND Date.Month = '12' AND Store.State ='TX' AND Item.Category = 'Books'\n",
    ") \n",
    "ORDER BY TotalSalesQuantity DESC LIMIT 10;"
   ]
  },
  {
   "cell_type": "code",
   "execution_count": null,
   "id": "c695373e-ac74-4b62-a1f1-08206cbd5c81",
   "metadata": {
    "language": "sql",
    "name": "Part_3__Execute_2"
   },
   "outputs": [],
   "source": [
    "-- Go to AI and ML to use the cortex analytics.\n",
    "SELECT 'https://app.snowflake.com/' || CURRENT_ORGANIZATION_NAME() || '/' || CURRENT_ACCOUNT_NAME() || '/#/studio/analyst/databases/SAMPLE_DATA/schemas/TPCDS_SF10TCL/semanticView/TPCDS_SEMANTIC_VIEW_SM/edit' AS RESULT;\n",
    "\n",
    "-- Use Prompt: \"What information is in this semantic view? Generate me sample prompts to use on his data.\"\n",
    "-- Use YAML Editor. \n",
    "-- Use UI Editor. "
   ]
  }
 ],
 "metadata": {
  "kernelspec": {
   "display_name": "Streamlit Notebook",
   "name": "streamlit"
  },
  "lastEditStatus": {
   "authorEmail": "michal.lewandowski@snowflake.com",
   "authorId": "217369083157",
   "authorName": "MLEWANDOWSKI",
   "lastEditTime": 1759158191322,
   "notebookId": "b4qo26n6tmss4fdusk5u",
   "sessionId": "c19f6954-8d67-4439-863e-cfdc4a94c17a"
  }
 },
 "nbformat": 4,
 "nbformat_minor": 5
}
