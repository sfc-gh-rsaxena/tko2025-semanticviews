{
 "cells": [
  {
   "cell_type": "markdown",
   "id": "b6f59bdd-aebf-40bd-8f4a-4348b71d8680",
   "metadata": {
    "collapsed": false,
    "name": "Introduction"
   },
   "source": [
    "# Introduction\n",
    "\n",
    "A Snowflake Semantic View is a  type of schema-level object in Snowflake that defines a business-friendly data model directly on your tables and views. Then, it can be used by AI and Humans to query data based on business needs.\n",
    "\n",
    "## What is included in the Semantic View Definition?\n",
    "\n",
    "* Logical Tables: These typically correspond to business entities (like CUSTOMER or ORDERS) and reference your underlying physical tables or views.\n",
    "\n",
    "* Relationships: These explicitly define how the logical tables connect to each other (e.g., how the CUSTOMER table links to the ORDERS table via a foreign key).\n",
    "\n",
    "* Dimensions: These are the business-friendly attributes used to group, filter, or provide context to your data (e.g., Customer_Region, Product_Category, Order_Date).\n",
    "\n",
    "* Metrics: These are business-friendly calculations or aggregations that represent Key Performance Indicators (KPIs) (e.g., Total_Sales, Average_Order_Value, Employee_Count). They use underlying data fields, sometimes called Facts, to perform the calculation.\n",
    "\n",
    "## How to use the Semantic View \n",
    "\n",
    "* Go to the **AI & ML** and search Cortex Analytics.\n",
    "* Use special Syntax Query.\n",
    "\n",
    "\n"
   ]
  },
  {
   "cell_type": "markdown",
   "id": "81f18578-de8e-425b-ae0e-2b70114adfbc",
   "metadata": {
    "collapsed": false,
    "name": "Part_1__Create_Data"
   },
   "source": [
    "### Part 1: Create / Use Data to create meaningfull model\n",
    "\n",
    "In this part you will use publicly availabile snowflake Share to create a data. "
   ]
  },
  {
   "cell_type": "code",
   "execution_count": null,
   "id": "2ceb7387-5586-4d08-b321-229bc2d9e87b",
   "metadata": {
    "language": "sql",
    "name": "cell5"
   },
   "outputs": [],
   "source": [
    "USE SCHEMA TKO_APJ_SEMANTIC_VIEW.TPCDS_SF10TCL;"
   ]
  },
  {
   "cell_type": "code",
   "execution_count": null,
   "id": "47363b84-e96e-4771-9f8b-0baa8cf274b0",
   "metadata": {
    "language": "sql",
    "name": "cell12"
   },
   "outputs": [],
   "source": [
    "-- Use public share to create data\n",
    "CREATE DATABASE IF NOT EXISTS SNOWFLAKE_SAMPLE_DATA FROM SHARE SFC_SAMPLES.SAMPLE_DATA;"
   ]
  },
  {
   "cell_type": "code",
   "execution_count": null,
   "id": "3775908f-ca36-4846-8f38-5adca39217f2",
   "metadata": {
    "language": "sql",
    "name": "Part_1__Execute"
   },
   "outputs": [],
   "source": [
    "-- Create or replace views for the tables from SNOWFLAKE_SAMPLE_DATA.TPCDS_SF10TCL\n",
    "CREATE OR REPLACE VIEW CUSTOMER AS\n",
    "SELECT * FROM SNOWFLAKE_SAMPLE_DATA.TPCDS_SF10TCL.CUSTOMER;\n",
    "\n",
    "CREATE OR REPLACE VIEW CUSTOMER_DEMOGRAPHICS AS\n",
    "SELECT * FROM SNOWFLAKE_SAMPLE_DATA.TPCDS_SF10TCL.CUSTOMER_DEMOGRAPHICS;\n",
    "\n",
    "CREATE OR REPLACE VIEW DATE_DIM AS\n",
    "SELECT * FROM SNOWFLAKE_SAMPLE_DATA.TPCDS_SF10TCL.DATE_DIM;\n",
    "\n",
    "CREATE OR REPLACE VIEW ITEM AS\n",
    "SELECT * FROM SNOWFLAKE_SAMPLE_DATA.TPCDS_SF10TCL.ITEM;\n",
    "\n",
    "CREATE OR REPLACE VIEW STORE AS\n",
    "SELECT * FROM SNOWFLAKE_SAMPLE_DATA.TPCDS_SF10TCL.STORE;\n",
    "\n",
    "CREATE OR REPLACE VIEW STORE_SALES AS\n",
    "SELECT * FROM SNOWFLAKE_SAMPLE_DATA.TPCDS_SF10TCL.STORE_SALES;\n",
    "\n",
    "-- Query the Data\n",
    "SHOW VIEWS;\n",
    "SELECT * FROM CUSTOMER LIMIT 20;"
   ]
  },
  {
   "cell_type": "markdown",
   "id": "b8b25bb8-fe4e-4c87-8cc5-333d5b7facac",
   "metadata": {
    "collapsed": false,
    "name": "Part_2__Create_View"
   },
   "source": [
    "### Part 2: Prepare Semantic Model/Createa Semantic View\n",
    "In this part you will get a yaml file from github repo and create a semantic view. "
   ]
  },
  {
   "cell_type": "markdown",
   "id": "3417148e-9bc2-4d97-bb81-9f492c62d4c5",
   "metadata": {
    "collapsed": false,
    "name": "cell15"
   },
   "source": [
    "### Check YAML file\n",
    "You have already downloaded yaml file from github repository in setup.sql. You will check content inside yaml file. "
   ]
  },
  {
   "cell_type": "code",
   "execution_count": null,
   "id": "9d1257e7-b65d-47bd-ae9c-54f91f0da221",
   "metadata": {
    "language": "sql",
    "name": "Part_2__Check_stage"
   },
   "outputs": [],
   "source": [
    "-- Check\n",
    "ls @YAML;"
   ]
  },
  {
   "cell_type": "code",
   "execution_count": null,
   "id": "0619b305-cec7-43e5-aba7-e3b4c913fe37",
   "metadata": {
    "language": "python",
    "name": "Part_2__Check_Content_In_Yaml"
   },
   "outputs": [],
   "source": [
    "import os\n",
    "import yaml\n",
    "import streamlit as st\n",
    "from snowflake.snowpark import Session\n",
    "from snowflake.snowpark.context import get_active_session\n",
    "\n",
    "def read_yaml_from_stage(session: Session,\n",
    "                         stage_path: str,\n",
    "                         local_dir: str = \"/tmp\") -> dict:\n",
    "    \"\"\"\n",
    "    Retrieve the YAML file from the stage to local, load it, and return its contents as a dict.\n",
    "\n",
    "    :param session: Snowpark session\n",
    "    :param stage_path: File path on the stage (e.g. \"@MY_STAGE/configs/my_config.yaml\")\n",
    "    :param local_dir: Local directory to save the file (a writable area in the workspace)\n",
    "    :return: YAML contents parsed into a dict\n",
    "    \"\"\"\n",
    "    # → Fetch locally\n",
    "    get_results = session.file.get(stage_path, local_dir)\n",
    "    # get_results is a list containing info about the downloaded files\n",
    "    if not get_results:\n",
    "        raise FileNotFoundError(f\"Failed to get file from stage: {stage_path}\")\n",
    "    # Normally get returns a list. Take the first result’s local file path\n",
    "    local_path = get_results[0].file\n",
    "    # Combine local_dir + the file name (if it’s not an absolute path)\n",
    "    full_local_path = os.path.join(local_dir, local_path) if not os.path.isabs(local_path) else local_path\n",
    "\n",
    "    # Load the YAML\n",
    "    with open(full_local_path, 'r', encoding='utf-8') as f:\n",
    "        yaml_data = yaml.safe_load(f)\n",
    "\n",
    "    return yaml_data\n",
    "\n",
    "session = get_active_session()\n",
    "stage_yaml = \"@TKO_APJ_SEMANTIC_VIEW.TPCDS_SF10TCL.YAML/TPCDS_SEMANTIC_VIEW.yaml\"\n",
    "try:\n",
    "    config = read_yaml_from_stage(session, stage_yaml, local_dir=\"/tmp\")\n",
    "    st.write(config)\n",
    "except Exception as e:\n",
    "    st.error(\"Error reading YAML:\", e)"
   ]
  },
  {
   "cell_type": "markdown",
   "id": "87274bac-6962-4916-9329-e6e30750dce6",
   "metadata": {
    "collapsed": false,
    "name": "cell4"
   },
   "source": [
    "### (Optional) Create Semantic View\n",
    "You are allowed to create a semantic view object via SQL query below."
   ]
  },
  {
   "cell_type": "code",
   "execution_count": null,
   "id": "8d50cbf4-0c8d-4950-86cb-114990437ac9",
   "metadata": {
    "language": "sql",
    "name": "Optional_Part_2__Create_Semantic_View"
   },
   "outputs": [],
   "source": [
    "USE SCHEMA TKO_APJ_SEMANTIC_VIEW.TPCDS_SF10TCL;\n",
    "CREATE OR REPLACE SEMANTIC VIEW TPCDS_SEMANTIC_VIEW_SM\n",
    "\ttables (\n",
    "\t\tCUSTOMER primary key (C_CUSTOMER_SK),\n",
    "\t\tDATE as DATE_DIM primary key (D_DATE_SK),\n",
    "\t\tDEMO as CUSTOMER_DEMOGRAPHICS primary key (CD_DEMO_SK),\n",
    "\t\tITEM primary key (I_ITEM_SK),\n",
    "\t\tSTORE primary key (S_STORE_SK),\n",
    "\t\tSTORESALES as STORE_SALES\n",
    "        primary key (SS_SOLD_DATE_SK,SS_CDEMO_SK,SS_ITEM_SK,SS_STORE_SK,SS_CUSTOMER_SK)\n",
    "\t)\n",
    "\trelationships (\n",
    "\t\tSALESTOCUSTOMER as STORESALES(SS_CUSTOMER_SK) references CUSTOMER(C_CUSTOMER_SK),\n",
    "\t\tSALESTODATE as STORESALES(SS_SOLD_DATE_SK) references DATE(D_DATE_SK),\n",
    "\t\tSALESTODEMO as STORESALES(SS_CDEMO_SK) references DEMO(CD_DEMO_SK),\n",
    "\t\tSALESTOITEM as STORESALES(SS_ITEM_SK) references ITEM(I_ITEM_SK),\n",
    "\t\tSALETOSTORE as STORESALES(SS_STORE_SK) references STORE(S_STORE_SK)\n",
    "\t)\n",
    "\tfacts (\n",
    "\t\tITEM.COST as i_wholesale_cost,\n",
    "\t\tITEM.PRICE as i_current_price,\n",
    "\t\tSTORE.TAX_RATE as S_TAX_PRECENTAGE,\n",
    "        STORESALES.SALES_QUANTITY as SS_QUANTITY\n",
    "\t)\n",
    "\tdimensions (\n",
    "\t\tCUSTOMER.BIRTHYEAR as C_BIRTH_YEAR,\n",
    "\t\tCUSTOMER.COUNTRY as C_BIRTH_COUNTRY,\n",
    "\t\tCUSTOMER.C_CUSTOMER_SK as c_customer_sk,\n",
    "\t\tDATE.DATE as D_DATE,\n",
    "\t\tDATE.D_DATE_SK as d_date_sk,\n",
    "\t\tDATE.MONTH as D_MOY,\n",
    "\t\tDATE.WEEK as D_WEEK_SEQ,\n",
    "\t\tDATE.YEAR as D_YEAR,\n",
    "\t\tDEMO.CD_DEMO_SK as cd_demo_sk,\n",
    "\t\tDEMO.CREDIT_RATING as CD_CREDIT_RATING,\n",
    "\t\tDEMO.MARITAL_STATUS as CD_MARITAL_STATUS,\n",
    "\t\tITEM.BRAND as I_BRAND,\n",
    "\t\tITEM.CATEGORY as I_CATEGORY,\n",
    "\t\tITEM.CLASS as I_CLASS,\n",
    "\t\tITEM.I_ITEM_SK as i_item_sk,\n",
    "\t\tSTORE.MARKET as S_MARKET_ID,\n",
    "\t\tSTORE.SQUAREFOOTAGE as S_FLOOR_SPACE,\n",
    "\t\tSTORE.STATE as S_STATE,\n",
    "\t\tSTORE.STORECOUNTRY as S_COUNTRY,\n",
    "\t\tSTORE.S_STORE_SK as s_store_sk,\n",
    "\t\tSTORESALES.SS_CDEMO_SK as ss_cdemo_sk,\n",
    "\t\tSTORESALES.SS_CUSTOMER_SK as ss_customer_sk,\n",
    "\t\tSTORESALES.SS_ITEM_SK as ss_item_sk,\n",
    "\t\tSTORESALES.SS_SOLD_DATE_SK as ss_sold_date_sk,\n",
    "\t\tSTORESALES.SS_STORE_SK as ss_store_sk\n",
    "\t)\n",
    "\tmetrics (\n",
    "\t\tSTORESALES.TOTALCOST as SUM(item.cost),\n",
    "\t\tSTORESALES.TOTALSALESPRICE as SUM(SS_SALES_PRICE),\n",
    "\t\tSTORESALES.TOTALSALESQUANTITY as SUM(SS_QUANTITY)\n",
    "            WITH SYNONYMS = ( 'total sales quantity', 'total sales amount')\n",
    "\t)\n",
    ";\n"
   ]
  },
  {
   "cell_type": "code",
   "execution_count": null,
   "id": "9cf4f038-2b4f-4708-9035-7436db405ed3",
   "metadata": {
    "language": "sql",
    "name": "Optional_Part_2__Check_Semantic_View"
   },
   "outputs": [],
   "source": [
    "DESC SEMANTIC VIEW TPCDS_SEMANTIC_VIEW_SM;"
   ]
  },
  {
   "cell_type": "markdown",
   "id": "7b1927f1-9ed4-4aef-b68c-eca1e0fbbef0",
   "metadata": {
    "collapsed": false,
    "name": "Part_3__How_to_Convert_semantic_model"
   },
   "source": [
    "## Part3 Convert Semantic view to YAML file/YAML file to Semantic View\n",
    "In this part, you will learn how to convert semantic view to semantic model and semantic model to semantic view. Snowflake provide two functions to convert as well as Snowsight UI."
   ]
  },
  {
   "cell_type": "markdown",
   "id": "59cdb34e-730a-4a4a-8efa-4baa954a1a51",
   "metadata": {
    "collapsed": false,
    "name": "Part_3__Convert_Snowsight"
   },
   "source": [
    "### Method 1: Using Snowsight UI\n",
    "Snowsight allows you to convert semantic view and model without coding. \n",
    "1. Sign in to Snowsight\n",
    "2. Navigate to AI & ML » Cortex Analyst\n",
    "3. Select \"Create new\" » \"Upload YAML file\"\n",
    "4. Select your YAML file to upload\n",
    "5. Select \"Convert and save\"\n"
   ]
  },
  {
   "cell_type": "markdown",
   "id": "3a491bb3-fce5-42e7-a5c4-40a29845e8de",
   "metadata": {
    "collapsed": false,
    "name": "Part_3__Convert_SQL"
   },
   "source": [
    "### Method 2: Using SQL functions"
   ]
  },
  {
   "cell_type": "markdown",
   "id": "c096190a-449f-4c94-a911-ac851f661e62",
   "metadata": {
    "collapsed": false,
    "name": "Part_3__Convert_YAML_to_Semntic_View"
   },
   "source": [
    "### YAML to Semantic View\n",
    "\n",
    "Official Doc Link: [system_create_semantic_view_from_yaml](https://docs.snowflake.com/en/sql-reference/stored-procedures/system_create_semantic_view_from_yaml)"
   ]
  },
  {
   "cell_type": "code",
   "execution_count": null,
   "id": "165e1926-dd58-4f1b-bdb5-086a55ef0ce4",
   "metadata": {
    "language": "sql",
    "name": "Part_3__Syntax_Example"
   },
   "outputs": [],
   "source": [
    "-- Example. \n",
    "-- Warning: A error happen once this cell executed.\n",
    "CALL SYSTEM$CREATE_SEMANTIC_VIEW_FROM_YAML(\n",
    "  'my_db.my_schema',\n",
    "  $$\n",
    "  name: TPCH_REV_ANALYSIS\n",
    "  description: Semantic view for revenue analysis\n",
    "  tables:\n",
    "    - name: CUSTOMERS\n",
    "      description: Main table for customer data\n",
    "      base_table:\n",
    "        database: SNOWFLAKE_SAMPLE_DATA\n",
    "        schema: TPCH_SF1\n",
    "        table: CUSTOMER\n",
    "      primary_key:\n",
    "        columns:\n",
    "          - C_CUSTKEY\n",
    "      dimensions:\n",
    "        - name: CUSTOMER_NAME\n",
    "          synonyms:\n",
    "            - customer name\n",
    "          description: Name of the customer\n",
    "          expr: customers.c_name\n",
    "          data_type: VARCHAR(25)\n",
    "        - name: C_CUSTKEY\n",
    "          expr: C_CUSTKEY\n",
    "          data_type: VARCHAR(134217728)\n",
    "      metrics:\n",
    "        - name: CUSTOMER_COUNT\n",
    "          description: Count of number of customers\n",
    "          expr: COUNT(c_custkey)\n",
    "    - name: LINE_ITEMS\n",
    "      description: Line items in orders\n",
    "      base_table:\n",
    "        database: SNOWFLAKE_SAMPLE_DATA\n",
    "        schema: TPCH_SF1\n",
    "        table: LINEITEM\n",
    "      primary_key:\n",
    "        columns:\n",
    "          - L_ORDERKEY\n",
    "          - L_LINENUMBER\n",
    "      dimensions:\n",
    "        - name: L_ORDERKEY\n",
    "          expr: L_ORDERKEY\n",
    "          data_type: VARCHAR(134217728)\n",
    "        - name: L_LINENUMBER\n",
    "          expr: L_LINENUMBER\n",
    "          data_type: VARCHAR(134217728)\n",
    "      facts:\n",
    "        - name: DISCOUNTED_PRICE\n",
    "          description: Extended price after discount\n",
    "          expr: l_extendedprice * (1 - l_discount)\n",
    "          data_type: \"NUMBER(25,4)\"\n",
    "        - name: LINE_ITEM_ID\n",
    "          expr: \"CONCAT(l_orderkey, '-', l_linenumber)\"\n",
    "          data_type: VARCHAR(134217728)\n",
    "    - name: ORDERS\n",
    "      synonyms:\n",
    "        - sales orders\n",
    "      description: All orders table for the sales domain\n",
    "      base_table:\n",
    "        database: SNOWFLAKE_SAMPLE_DATA\n",
    "        schema: TPCH_SF1\n",
    "        table: ORDERS\n",
    "      primary_key:\n",
    "        columns:\n",
    "          - O_ORDERKEY\n",
    "      dimensions:\n",
    "        - name: ORDER_DATE\n",
    "          description: Date when the order was placed\n",
    "          expr: o_orderdate\n",
    "          data_type: DATE\n",
    "        - name: ORDER_YEAR\n",
    "          description: Year when the order was placed\n",
    "          expr: YEAR(o_orderdate)\n",
    "          data_type: \"NUMBER(4,0)\"\n",
    "        - name: O_ORDERKEY\n",
    "          expr: O_ORDERKEY\n",
    "          data_type: VARCHAR(134217728)\n",
    "        - name: O_CUSTKEY\n",
    "          expr: O_CUSTKEY\n",
    "          data_type: VARCHAR(134217728)\n",
    "      facts:\n",
    "        - name: COUNT_LINE_ITEMS\n",
    "          expr: COUNT(line_items.line_item_id)\n",
    "          data_type: \"NUMBER(18,0)\"\n",
    "      metrics:\n",
    "        - name: AVERAGE_LINE_ITEMS_PER_ORDER\n",
    "          description: Average number of line items per order\n",
    "          expr: AVG(orders.count_line_items)\n",
    "        - name: ORDER_AVERAGE_VALUE\n",
    "          description: Average order value across all orders\n",
    "          expr: AVG(orders.o_totalprice)\n",
    "  relationships:\n",
    "    - name: LINE_ITEM_TO_ORDERS\n",
    "      left_table: LINE_ITEMS\n",
    "      right_table: ORDERS\n",
    "      relationship_columns:\n",
    "        - left_column: L_ORDERKEY\n",
    "          right_column: O_ORDERKEY\n",
    "      relationship_type: many_to_one\n",
    "    - name: ORDERS_TO_CUSTOMERS\n",
    "      left_table: ORDERS\n",
    "      right_table: CUSTOMERS\n",
    "      relationship_columns:\n",
    "        - left_column: O_CUSTKEY\n",
    "          right_column: C_CUSTKEY\n",
    "      relationship_type: many_to_one\n",
    "  $$,\n",
    "TRUE);"
   ]
  },
  {
   "cell_type": "markdown",
   "id": "c391495e-b97e-49a9-8887-1427bdb387bf",
   "metadata": {
    "collapsed": false,
    "name": "Part_3__Note"
   },
   "source": [
    "**CREATE_SEMANTIC_VIEW_FROM_YAML** is not able to directly read YAML file stored in stage. So, you will create stored procedure including some logics to extract data inside yaml and call CREATE_SEMANTIC_VIEW_FROM_YAML function as the next cell."
   ]
  },
  {
   "cell_type": "code",
   "execution_count": null,
   "id": "973e787e-5446-462e-bfdb-6197621550c6",
   "metadata": {
    "language": "sql",
    "name": "Part3__Create_SPROC"
   },
   "outputs": [],
   "source": [
    "CREATE OR REPLACE PROCEDURE CREATE_SEMANTIC_VIEW_FROM_STAGE_YAML(\n",
    "    TARGET_SCHEMA STRING,          -- e.g. 'MY_DB.MY_SCHEMA' (must be fully-qualified)\n",
    "    STAGE_FILE_URL STRING,         -- e.g. '@MY_DB.MY_SCHEMA.MY_STAGE/path/model.yaml'\n",
    "    VERIFY_ONLY BOOLEAN DEFAULT FALSE\n",
    ")\n",
    "RETURNS STRING\n",
    "LANGUAGE JAVASCRIPT\n",
    "EXECUTE AS CALLER\n",
    "AS\n",
    "$$\n",
    "function exec(sql, binds) {\n",
    "  var s = snowflake.createStatement({ sqlText: sql, binds: binds || [] });\n",
    "  return s.execute();\n",
    "}\n",
    "\n",
    "// Split '<DB>.<SCHEMA>'\n",
    "function splitSchema(fqSchema) {\n",
    "  var parts = (fqSchema || '').split('.');\n",
    "  if (parts.length !== 2) {\n",
    "    throw new Error(\"TARGET_SCHEMA must be fully qualified as 'DB.SCHEMA': \" + fqSchema);\n",
    "  }\n",
    "  return { db: parts[0], schema: parts[1] };\n",
    "}\n",
    "\n",
    "// Extract the semantic view name from YAML (first top-level 'name:' line).\n",
    "// Handles simple quoted or unquoted names. If not found, throws.\n",
    "function extractViewNameFromYaml(yamlText) {\n",
    "  if (!yamlText) throw new Error(\"YAML text is empty.\");\n",
    "  var re = /^[ \\t]*name[ \\t]*:[ \\t]*(?:\"([^\"]+)\"|'([^']+)'|([^\\r\\n#]+))/mi;\n",
    "  var m = yamlText.match(re);\n",
    "  if (!m) {\n",
    "    throw new Error(\"Could not find a top-level 'name:' in the YAML specification.\");\n",
    "  }\n",
    "  var raw = (m[1] || m[2] || m[3] || \"\").trim();\n",
    "  // Remove inline trailing comments if present.\n",
    "  raw = raw.replace(/[ \\t]+#[^\\r\\n]*$/, \"\").trim();\n",
    "  return raw;\n",
    "}\n",
    "\n",
    "var ctx = splitSchema(TARGET_SCHEMA);\n",
    "\n",
    "// 1) Create a temporary file format to read YAML as a single column ($1).\n",
    "var ff_name = 'FF_YAML_' + Date.now();\n",
    "var ff_fqn  = ctx.db + '.' + ctx.schema + '.' + ff_name;\n",
    "\n",
    "exec(\n",
    "  'CREATE TEMPORARY FILE FORMAT ' + ff_fqn +\n",
    "  ' TYPE = CSV FIELD_DELIMITER = NONE RECORD_DELIMITER = NONE'\n",
    ");\n",
    "\n",
    "// 2) Read YAML from stage using the named file format.\n",
    "var yamlText;\n",
    "try {\n",
    "  var rs = exec(\n",
    "    'SELECT $1 AS YAML_TEXT FROM ' + STAGE_FILE_URL + ' (FILE_FORMAT => ?) LIMIT 1',\n",
    "    [ff_fqn]\n",
    "  );\n",
    "  if (!rs.next()) {\n",
    "    throw new Error('Failed to read YAML from stage: ' + STAGE_FILE_URL);\n",
    "  }\n",
    "  yamlText = String(rs.getColumnValue(1));\n",
    "} finally {\n",
    "  // Best-effort cleanup (TEMP also drops at session end).\n",
    "  try { exec('DROP FILE FORMAT IF EXISTS ' + ff_fqn); } catch (e) {}\n",
    "}\n",
    "\n",
    "// 3) Determine the target semantic view FQN from YAML.\n",
    "var viewNameFromYaml = extractViewNameFromYaml(yamlText);\n",
    "// Preserve quotes if the YAML used a quoted identifier with spaces.\n",
    "var semanticViewFqn = ctx.db + '.' + ctx.schema + '.' + viewNameFromYaml;\n",
    "\n",
    "// 4) Create or verify the semantic view from YAML.\n",
    "//    Note: the system proc returns a status string; we return the FQN explicitly.\n",
    "var callRs = exec(\n",
    "  'CALL SYSTEM$CREATE_SEMANTIC_VIEW_FROM_YAML(?, ?, ?)',\n",
    "  [ (ctx.db + '.' + ctx.schema), yamlText, VERIFY_ONLY ]\n",
    ");\n",
    "callRs.next(); // status (not used further)\n",
    "\n",
    "if (VERIFY_ONLY) {\n",
    "  return 'VERIFIED: ' + semanticViewFqn;\n",
    "} else {\n",
    "  return 'CREATED: ' + semanticViewFqn;\n",
    "}\n",
    "$$;"
   ]
  },
  {
   "cell_type": "code",
   "execution_count": null,
   "id": "dd88a401-ab74-4cdf-a67c-090d7063c1fb",
   "metadata": {
    "language": "sql",
    "name": "Part3__Execute_SPROC"
   },
   "outputs": [],
   "source": [
    "CALL CREATE_SEMANTIC_VIEW_FROM_STAGE_YAML(\n",
    "  'TKO_APJ_SEMANTIC_VIEW.PUBLIC',\n",
    "  '@TKO_APJ_SEMANTIC_VIEW.PUBLIC.YAML/TPCDS_SEMANTIC_VIEW.yaml',\n",
    "  FALSE  -- \n",
    ");"
   ]
  },
  {
   "cell_type": "code",
   "execution_count": null,
   "id": "ed888b18-59b9-4e16-a7c9-e933f62230cc",
   "metadata": {
    "language": "sql",
    "name": "Part3__Check_Semantic_View"
   },
   "outputs": [],
   "source": [
    "-- Check\n",
    "DESC SEMANTIC VIEW TKO_APJ_SEMANTIC_VIEW.PUBLIC.TPCDS_SEMANTIC_VIEW_SM"
   ]
  },
  {
   "cell_type": "markdown",
   "id": "93de6c4d-0524-4037-8377-4bc0fcef40f2",
   "metadata": {
    "collapsed": false,
    "name": "Part_3__Convert_Semantic_View_to_Yaml"
   },
   "source": [
    "### Semantic View to YAML file\n",
    "\n",
    "Official Doc Link: [system_read_yaml_from_semantic_view](https://docs.snowflake.com/en/sql-reference/functions/system_read_yaml_from_semantic_view)"
   ]
  },
  {
   "cell_type": "code",
   "execution_count": null,
   "id": "01073f70-58a8-4c91-8c27-5f0b277a184c",
   "metadata": {
    "language": "sql",
    "name": "Part_3__Convert_View_to_Yaml"
   },
   "outputs": [],
   "source": [
    "SELECT SYSTEM$READ_YAML_FROM_SEMANTIC_VIEW('TKO_APJ_SEMANTIC_VIEW.TPCDS_SF10TCL.TPCDS_SEMANTIC_VIEW_SM') as yaml_format"
   ]
  },
  {
   "cell_type": "code",
   "execution_count": null,
   "id": "94721d1a-df12-44f6-a52e-72ea2bf482ea",
   "metadata": {
    "language": "sql",
    "name": "Part_3__Save_In_Stage"
   },
   "outputs": [],
   "source": [
    "-- Save it in internal stage. \n",
    "COPY INTO @TKO_APJ_SEMANTIC_VIEW.TPCDS_SF10TCL.YAML/TPCDS_SEMANTIC_VIEW_2.yaml\n",
    "FROM (\n",
    "  SELECT SYSTEM$READ_YAML_FROM_SEMANTIC_VIEW('TKO_APJ_SEMANTIC_VIEW.TPCDS_SF10TCL.TPCDS_SEMANTIC_VIEW_SM')\n",
    ")\n",
    "FILE_FORMAT = (\n",
    "  TYPE = CSV\n",
    "  FIELD_DELIMITER = NONE \n",
    "  RECORD_DELIMITER = NONE\n",
    "  FIELD_OPTIONALLY_ENCLOSED_BY = NONE\n",
    "  COMPRESSION = NONE\n",
    ")\n",
    "SINGLE = TRUE\n",
    "OVERWRITE = TRUE;"
   ]
  },
  {
   "cell_type": "code",
   "execution_count": null,
   "id": "2d2f7f5b-567f-4c41-bafd-da12192cbd89",
   "metadata": {
    "language": "sql",
    "name": "Part_3__Check_Stage"
   },
   "outputs": [],
   "source": [
    "ls @YAML"
   ]
  },
  {
   "cell_type": "markdown",
   "id": "73ddfcf3-2439-469e-b804-fa4ef2ab6009",
   "metadata": {
    "collapsed": false,
    "name": "Part_4__Query_Semantic_View"
   },
   "source": [
    "### Part 4: How you can use a Semantic View"
   ]
  },
  {
   "cell_type": "code",
   "execution_count": null,
   "id": "48551939-98a4-4b2f-baab-e984d38d04f4",
   "metadata": {
    "language": "sql",
    "name": "Part_3__Execute_1"
   },
   "outputs": [],
   "source": [
    "SELECT * FROM SEMANTIC_VIEW\n",
    "( \n",
    " TPCDS_SEMANTIC_VIEW_SM\n",
    "    DIMENSIONS \n",
    "            Item.Brand,\n",
    "            Item.Category,            \n",
    "            Date.Year,\n",
    "            Date.Month,\n",
    "            Store.State\n",
    "    METRICS \n",
    "        StoreSales.TotalSalesQuantity\n",
    "    WHERE\n",
    "        Date.Year = '2002' AND Date.Month = '12' AND Store.State ='TX' AND Item.Category = 'Books'\n",
    ") \n",
    "ORDER BY TotalSalesQuantity DESC LIMIT 10;"
   ]
  },
  {
   "cell_type": "markdown",
   "id": "a3824252-41f6-4b52-9db7-03df1e32d68a",
   "metadata": {
    "collapsed": false,
    "name": "Part_5__Integrate_with_Agents"
   },
   "source": [
    "## Part 5: Integrate Semantic View with Cortex Agents/Snowflake Intellifence. \n",
    "In this part, you will learn how to integrate semantic view with Cortex Agents and some tips to improve accuracy/performance of Semantic view. "
   ]
  },
  {
   "cell_type": "markdown",
   "id": "dec3d869-f45f-4e72-9d6b-643b8f997cf4",
   "metadata": {
    "collapsed": false,
    "name": "Part_5__Navigate_Cortex_Agents_page"
   },
   "source": [
    "1. Sign in to Snowsight\n",
    "2. Navigate to AI & ML » Cortex Agents\n",
    "3. ??"
   ]
  },
  {
   "cell_type": "markdown",
   "id": "38b03f38-84e1-4a8f-86c7-3d042e8aaef8",
   "metadata": {
    "collapsed": false,
    "name": "Part_5__Some_Tips"
   },
   "source": [
    "TODO: Put some tips to improve accuracy of its on top of CI/CD pipeline\n"
   ]
  },
  {
   "cell_type": "markdown",
   "id": "b14cf12b-91dc-4fe0-b888-1fb1ebc6b432",
   "metadata": {
    "collapsed": false,
    "name": "cell8"
   },
   "source": [
    "## Part6 Omni free trial "
   ]
  },
  {
   "cell_type": "markdown",
   "id": "f73d8f7a-7a81-4b02-a01f-631ff986be69",
   "metadata": {
    "collapsed": false,
    "name": "cell1"
   },
   "source": [
    "TODO: Put some commnets to how to create Omni free trial and so on. "
   ]
  },
  {
   "cell_type": "markdown",
   "id": "4a244101-9809-4d77-adb8-0ac215057a9f",
   "metadata": {
    "collapsed": false,
    "name": "cell9"
   },
   "source": [
    "## (Optionaly) share semantic view to another snowflake account "
   ]
  },
  {
   "cell_type": "markdown",
   "id": "1eeb38ad-43a5-4888-aefd-8adfc0746b9a",
   "metadata": {
    "collapsed": false,
    "name": "cell2"
   },
   "source": [
    "TODO: Put some sql commands to how to share it with another snowflake account "
   ]
  }
 ],
 "metadata": {
  "kernelspec": {
   "display_name": "Streamlit Notebook",
   "name": "streamlit"
  },
  "lastEditStatus": {
   "authorEmail": "masato.takada@snowflake.com",
   "authorId": "136547604385",
   "authorName": "ADMIN",
   "lastEditTime": 1759460917565,
   "notebookId": "vpjakxgvlt5ktorz7bnq",
   "sessionId": "d1150526-7d7a-4cbe-af84-29b5e6634114"
  }
 },
 "nbformat": 4,
 "nbformat_minor": 5
}
