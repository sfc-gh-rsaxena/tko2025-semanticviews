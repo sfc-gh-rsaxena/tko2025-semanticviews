{
 "metadata": {
  "kernelspec": {
   "display_name": "Streamlit Notebook",
   "name": "streamlit"
  },
  "lastEditStatus": {
   "notebookId": "zctgrxgo32j7ipn535mv",
   "authorId": "136547604385",
   "authorName": "ADMIN",
   "authorEmail": "masato.takada@snowflake.com",
   "sessionId": "f92c7b60-4c40-4fb1-aff9-81ca77ec06cc",
   "lastEditTime": 1761708970131
  }
 },
 "nbformat_minor": 5,
 "nbformat": 4,
 "cells": [
  {
   "cell_type": "markdown",
   "id": "b6f59bdd-aebf-40bd-8f4a-4348b71d8680",
   "metadata": {
    "collapsed": false,
    "name": "Introduction"
   },
   "source": "# Introduction\n\nThis notebook shows how to model, create, and use a Snowflake Semantic View on top of TPC-DS sample data. You will define the model in both SQL and YAML, convert between the two, run example queries, and integrate the model with Snowflake AI features.\n\n## What you will do\n- Prepare simple views over shared TPC-DS tables.\n- Define a semantic model in YAML and SQL; validate and create a Semantic View.\n- Convert between YAML and Semantic Views (read/write).\n- Query the Semantic View using dimensions, metrics, and filters.\n- Integrate with Cortex Analyst and enhance natural language understanding with Cortex Search.\n- [Optional] Connect Semantic View from 3rd party tools such as Omni\n- [Optional] Share Semantic View Objects with other SF account\n\n\n## Prerequisites\n- A Snowflake account and warehouse.\n- Privileges to create databases, schemas, stages, and semantic views.\n\n## Outcome\nBy the end, you will have a working Semantic View (`TPCDS_SEMANTIC_VIEW_SM`) and a repeatable workflow to manage it via YAML or SQL."
  },
  {
   "cell_type": "markdown",
   "id": "81f18578-de8e-425b-ae0e-2b70114adfbc",
   "metadata": {
    "collapsed": false,
    "name": "Part_1__Create_Data"
   },
   "source": "### Part 1: Prepare Data for a Meaningful Model\n\nIn this section, you will use publicly available Snowflake sample data (via a share) to create simple views that the Semantic View will reference later."
  },
  {
   "cell_type": "code",
   "execution_count": null,
   "id": "2ceb7387-5586-4d08-b321-229bc2d9e87b",
   "metadata": {
    "language": "sql",
    "name": "Part_1__Schema"
   },
   "outputs": [],
   "source": [
    "USE SCHEMA TKO_APJ_SEMANTIC_VIEW.TPCDS_SF10TCL;"
   ]
  },
  {
   "cell_type": "code",
   "execution_count": null,
   "id": "3775908f-ca36-4846-8f38-5adca39217f2",
   "metadata": {
    "codeCollapsed": false,
    "language": "sql",
    "name": "Part_1__Execute"
   },
   "outputs": [],
   "source": "-- Create or replace views for the tables from SNOWFLAKE_SAMPLE_DATA.TPCDS_SF10TCL\nCREATE OR REPLACE VIEW CUSTOMER AS\nSELECT * FROM SNOWFLAKE_SAMPLE_DATA.TPCDS_SF10TCL.CUSTOMER;\n\nCREATE OR REPLACE VIEW CUSTOMER_DEMOGRAPHICS AS\nSELECT * FROM SNOWFLAKE_SAMPLE_DATA.TPCDS_SF10TCL.CUSTOMER_DEMOGRAPHICS;\n\nCREATE OR REPLACE VIEW DATE_DIM AS\nSELECT * FROM SNOWFLAKE_SAMPLE_DATA.TPCDS_SF10TCL.DATE_DIM;\n\nCREATE OR REPLACE VIEW ITEM AS\nSELECT * FROM SNOWFLAKE_SAMPLE_DATA.TPCDS_SF10TCL.ITEM;\n\nCREATE OR REPLACE VIEW STORE AS\nSELECT * FROM SNOWFLAKE_SAMPLE_DATA.TPCDS_SF10TCL.STORE;\n\nCREATE OR REPLACE VIEW STORE_SALES AS\nSELECT * FROM SNOWFLAKE_SAMPLE_DATA.TPCDS_SF10TCL.STORE_SALES;\n\n-- Query the Data\nSELECT * FROM CUSTOMER LIMIT 20;"
  },
  {
   "cell_type": "markdown",
   "id": "b8b25bb8-fe4e-4c87-8cc5-333d5b7facac",
   "metadata": {
    "collapsed": false,
    "name": "Part_2__Create_View"
   },
   "source": "### Part 2: Define the Semantic Model and Create a Semantic View\nThis section reviews a YAML-based semantic model and uses it to create a Semantic View."
  },
  {
   "cell_type": "markdown",
   "id": "3417148e-9bc2-4d97-bb81-9f492c62d4c5",
   "metadata": {
    "collapsed": false,
    "name": "Part_2__Define_Yaml_File"
   },
   "source": "### 2-1. Review the YAML file\nA SQL code checks whether a Semantic Model is stored in the \"YAML\" stage."
  },
  {
   "cell_type": "code",
   "execution_count": null,
   "id": "9d1257e7-b65d-47bd-ae9c-54f91f0da221",
   "metadata": {
    "language": "sql",
    "name": "Part_2__Check_stage"
   },
   "outputs": [],
   "source": [
    "-- List files in the YAML stage\n",
    "ls @YAML;"
   ]
  },
  {
   "cell_type": "markdown",
   "id": "4576c0ea-e77c-4b7f-ad98-eda6b1a0bb03",
   "metadata": {
    "name": "Part_2_2__review_yaml",
    "collapsed": false
   },
   "source": "### 2-2. How to review YAML file via Snowsight UI\n\nThis step involves reviewing semantic model definitions using Snowsight.\n\n1. Sign in to Snowsight.\n2. Navigate to **AI & ML** » **Cortex Analyst**.\n3. Click Database, Schema, and Stage from the top columns. \n4. Choose **TKO_APJ_SEMANTIC_VIEW** database with **TPCDS_SF10TCL** schema and **YAML** stage.\n5. Click your semantic model named `TPCDS_SEMANTIC_VIEW.yaml`\n6. Click **“Edit YAML”** at the top and review definitions of a semantic model. "
  },
  {
   "cell_type": "markdown",
   "id": "4a43de6e-b0d2-4215-b13a-124c16f3b17e",
   "metadata": {
    "name": "Part_2_3__create_sv",
    "collapsed": false
   },
   "source": "### 2-3. Create Semantic View via Snowsight UI\n\nThis step involves converting a YAML-based semantic mode with a Semantic View object using Snowsight.\n\n1. Sign in to Snowsight.\n2. Navigate to **AI & ML** » **Cortex Analyst**.\n3. Click **Database, Schema, and Stage** from the top columns. \n4. Choose **TKO_APJ_SEMANTIC_VIEW** database with **TPCDS_SF10TCL** schema and **YAML** stage.\n5. Click the ellipsis (**...**) on the right and select \"Convert to Semantic View\"."
  },
  {
   "cell_type": "markdown",
   "id": "87274bac-6962-4916-9329-e6e30750dce6",
   "metadata": {
    "collapsed": false,
    "name": "Part_2__Optional_Semantic_View"
   },
   "source": "### (Optional)2-3. Create a Semantic View via SQL\nThis SQL example mirrors the YAML-defined model for comparison."
  },
  {
   "cell_type": "code",
   "execution_count": null,
   "id": "8d50cbf4-0c8d-4950-86cb-114990437ac9",
   "metadata": {
    "language": "sql",
    "name": "Optional_Part_2__Create_Semantic_View"
   },
   "outputs": [],
   "source": "USE SCHEMA TKO_APJ_SEMANTIC_VIEW.TPCDS_SF10TCL;\n\nCREATE OR REPLACE SEMANTIC VIEW TPCDS_SEMANTIC_VIEW_SM\n\ttables (\n\t\tCUSTOMER primary key (C_CUSTOMER_SK),\n\t\tDATE as DATE_DIM primary key (D_DATE_SK),\n\t\tDEMO as CUSTOMER_DEMOGRAPHICS primary key (CD_DEMO_SK),\n\t\tITEM primary key (I_ITEM_SK),\n\t\tSTORE primary key (S_STORE_SK),\n\t\tSTORESALES as STORE_SALES\n        primary key (SS_SOLD_DATE_SK,SS_CDEMO_SK,SS_ITEM_SK,SS_STORE_SK,SS_CUSTOMER_SK)\n\t)\n\trelationships (\n\t\tSALESTOCUSTOMER as STORESALES(SS_CUSTOMER_SK) references CUSTOMER(C_CUSTOMER_SK),\n\t\tSALESTODATE as STORESALES(SS_SOLD_DATE_SK) references DATE(D_DATE_SK),\n\t\tSALESTODEMO as STORESALES(SS_CDEMO_SK) references DEMO(CD_DEMO_SK),\n\t\tSALESTOITEM as STORESALES(SS_ITEM_SK) references ITEM(I_ITEM_SK),\n\t\tSALETOSTORE as STORESALES(SS_STORE_SK) references STORE(S_STORE_SK)\n\t)\n\tfacts (\n\t\tITEM.COST as i_wholesale_cost,\n\t\tITEM.PRICE as i_current_price,\n\t\tSTORE.TAX_RATE as S_TAX_PRECENTAGE,\n        STORESALES.SALES_QUANTITY as SS_QUANTITY\n\t)\n\tdimensions (\n\t\tCUSTOMER.BIRTHYEAR as C_BIRTH_YEAR,\n\t\tCUSTOMER.COUNTRY as C_BIRTH_COUNTRY,\n\t\tCUSTOMER.C_CUSTOMER_SK as c_customer_sk,\n\t\tDATE.DATE as D_DATE,\n\t\tDATE.D_DATE_SK as d_date_sk,\n\t\tDATE.MONTH as D_MOY,\n\t\tDATE.WEEK as D_WEEK_SEQ,\n\t\tDATE.YEAR as D_YEAR,\n\t\tDEMO.CD_DEMO_SK as cd_demo_sk,\n\t\tDEMO.CREDIT_RATING as CD_CREDIT_RATING,\n\t\tDEMO.MARITAL_STATUS as CD_MARITAL_STATUS,\n\t\tITEM.BRAND as I_BRAND,\n\t\tITEM.CATEGORY as I_CATEGORY,\n\t\tITEM.CLASS as I_CLASS,\n\t\tITEM.I_ITEM_SK as i_item_sk,\n\t\tSTORE.MARKET as S_MARKET_ID,\n\t\tSTORE.SQUAREFOOTAGE as S_FLOOR_SPACE,\n\t\tSTORE.STATE as S_STATE,\n\t\tSTORE.STORECOUNTRY as S_COUNTRY,\n\t\tSTORE.S_STORE_SK as s_store_sk,\n\t\tSTORESALES.SS_CDEMO_SK as ss_cdemo_sk,\n\t\tSTORESALES.SS_CUSTOMER_SK as ss_customer_sk,\n\t\tSTORESALES.SS_ITEM_SK as ss_item_sk,\n\t\tSTORESALES.SS_SOLD_DATE_SK as ss_sold_date_sk,\n\t\tSTORESALES.SS_STORE_SK as ss_store_sk\n\t)\n\tmetrics (\n\t\tSTORESALES.TOTALCOST as SUM(item.cost),\n\t\tSTORESALES.TOTALSALESPRICE as SUM(SS_SALES_PRICE),\n\t\tSTORESALES.TOTALSALESQUANTITY as SUM(SS_QUANTITY)\n            WITH SYNONYMS = ( 'total sales quantity', 'total sales amount')\n\t)\n    \n;\n"
  },
  {
   "cell_type": "markdown",
   "id": "ef5f4103-7652-467d-b970-0c31a6aa9721",
   "metadata": {
    "name": "Part_2_4__inspect_sv",
    "collapsed": false
   },
   "source": "### 2-4. Inspect the Semantic View (SQL)\nLet’s examine the following SQL function to check definitions of Semantic View.\n"
  },
  {
   "cell_type": "code",
   "execution_count": null,
   "id": "9cf4f038-2b4f-4708-9035-7436db405ed3",
   "metadata": {
    "language": "sql",
    "name": "Optional_Part_2__Check_Semantic_View"
   },
   "outputs": [],
   "source": "select get_ddl('SEMANTIC_VIEW', 'TKO_APJ_SEMANTIC_VIEW.TPCDS_SF10TCL.TPCDS_SEMANTIC_VIEW_SM',true);"
  },
  {
   "cell_type": "markdown",
   "id": "6049aa6e-6244-4fdf-ade4-f4084984e95e",
   "metadata": {
    "name": "Part_2_5__tips",
    "collapsed": false
   },
   "source": "### Tips – Snowsight vs SQL –\n\nIt is recommended that the initial creation of a Semantic model be performed using **Snowsight UI**, as it automatically generates descriptions for tables and dimensions. Additionally, while currently in public preview, it suggests additions to a Verified Query List. The Snowsight UI facilitates the definition of a Semantic model; however, updates to a **Semantic View are executed via SQL code** from CI/CD pipelines. "
  },
  {
   "cell_type": "markdown",
   "id": "7b1927f1-9ed4-4aef-b68c-eca1e0fbbef0",
   "metadata": {
    "collapsed": false,
    "name": "Part_3__How_to_Convert_semantic_model"
   },
   "source": "## [Optional] Part 3: Convert Between YAML and Semantic Views\n***This section is optional. If you have already created the semantic view in the previous section, you can skip Part 3.***\n\nIn this section, you will learn how to convert a semantic model between a YAML file and Semantic View object. Snowflake supports both SQL functions and a Snowsight UI flow for conversions."
  },
  {
   "cell_type": "markdown",
   "id": "59cdb34e-730a-4a4a-8efa-4baa954a1a51",
   "metadata": {
    "collapsed": false,
    "name": "Part_3__Convert_Snowsight"
   },
   "source": "### 3-1. YAML to Semantic View\nYou can convert a YAML file into a Semantic View in two ways. Please choose either one.\n\nOption 1: Using Snowsight (UI)\n1. Sign in to **Snowsight**.\n2. Navigate to **AI & ML** » **Cortex Analyst**.\n3. Select **Semantic models** tabs on the top\n3. Click **Database, Schema, and Stage** from the top columns. \n4. Choose **TKO_APJ_SEMANTIC_VIEW** database with **TPCDS_SF10TCL** schema and **YAML** stage.\n5. Click the ellipsis (...) on the right and select \"**Convert to Semantic View**\".\n"
  },
  {
   "cell_type": "markdown",
   "id": "3a491bb3-fce5-42e7-a5c4-40a29845e8de",
   "metadata": {
    "collapsed": false,
    "name": "Part_3__Convert_SQL"
   },
   "source": "### Option 2: Using SQL Functions\n\nThe function `SYSTEM$CREATE_SEMANTIC_VIEW_FROM_YAML` can create a semantic view object from a YAML-format semantic model. However, it cannot read a YAML file directly from a stage. Let us share with you that a **custom Stored Procedure** below is used to read the YAML from the stage and then call the function with the YAML text.\n"
  },
  {
   "cell_type": "code",
   "execution_count": null,
   "id": "973e787e-5446-462e-bfdb-6197621550c6",
   "metadata": {
    "language": "sql",
    "name": "Part3__Create_SPROC"
   },
   "outputs": [],
   "source": "CREATE OR REPLACE PROCEDURE CREATE_SEMANTIC_VIEW_FROM_STAGE_YAML(\n    TARGET_SCHEMA STRING,          -- e.g. 'MY_DB.MY_SCHEMA' (must be fully-qualified)\n    STAGE_FILE_URL STRING,         -- e.g. '@MY_DB.MY_SCHEMA.MY_STAGE/path/model.yaml'\n    VERIFY_ONLY BOOLEAN DEFAULT FALSE\n)\nRETURNS STRING\nLANGUAGE JAVASCRIPT\nEXECUTE AS CALLER\nAS\n$$\nfunction exec(sql, binds) {\n  var s = snowflake.createStatement({ sqlText: sql, binds: binds || [] });\n  return s.execute();\n}\n\n// Split '<DB>.<SCHEMA>'\nfunction splitSchema(fqSchema) {\n  var parts = (fqSchema || '').split('.');\n  if (parts.length !== 2) {\n    throw new Error(\"TARGET_SCHEMA must be fully qualified as 'DB.SCHEMA': \" + fqSchema);\n  }\n  return { db: parts[0], schema: parts[1] };\n}\n\n// Extract the semantic view name from YAML (first top-level 'name:' line).\nfunction extractViewNameFromYaml(yamlText) {\n  if (!yamlText) throw new Error(\"YAML text is empty.\");\n  var re = /^[ \\t]*name[ \\t]*:[ \\t]*(?:\"([^\"]+)\"|'([^']+)'|([^\\r\\n#]+))/mi;\n  var m = yamlText.match(re);\n  if (!m) {\n    throw new Error(\"Could not find a top-level 'name:' in the YAML specification.\");\n  }\n  var raw = (m[1] || m[2] || m[3] || \"\").trim();\n  raw = raw.replace(/[ \\t]+#[^\\r\\n]*$/, \"\").trim();\n  return raw;\n}\n\nvar ctx = splitSchema(TARGET_SCHEMA);\n\n// 1) Create a temporary file format to read YAML as a single column ($1).\nvar ff_name = 'FF_YAML_' + Date.now();\nvar ff_fqn  = ctx.db + '.' + ctx.schema + '.' + ff_name;\n\nexec(\n  'CREATE TEMPORARY FILE FORMAT ' + ff_fqn +\n  ' TYPE = CSV FIELD_DELIMITER = NONE RECORD_DELIMITER = NONE'\n);\n\n// 2) Read YAML from stage using the named file format.\nvar yamlText;\ntry {\n  var rs = exec(\n    'SELECT $1 AS YAML_TEXT FROM ' + STAGE_FILE_URL + ' (FILE_FORMAT => ?) LIMIT 1',\n    [ff_fqn]\n  );\n  if (!rs.next()) {\n    throw new Error('Failed to read YAML from stage: ' + STAGE_FILE_URL);\n  }\n  yamlText = String(rs.getColumnValue(1));\n} finally {\n  // Best-effort cleanup (TEMP also drops at session end).\n  try { exec('DROP FILE FORMAT IF EXISTS ' + ff_fqn); } catch (e) {}\n}\n\n// 3) Determine the target semantic view FQN from YAML.\nvar viewNameFromYaml = extractViewNameFromYaml(yamlText);\nvar semanticViewFqn = ctx.db + '.' + ctx.schema + '.' + viewNameFromYaml;\n\n// 4) Create or verify the semantic view from YAML.\nvar callRs = exec(\n  'CALL SYSTEM$CREATE_SEMANTIC_VIEW_FROM_YAML(?, ?, ?)',\n  [ (ctx.db + '.' + ctx.schema), yamlText, VERIFY_ONLY ]\n);\ncallRs.next(); // status (not used further)\n\nif (VERIFY_ONLY) {\n  return 'VERIFIED: ' + semanticViewFqn;\n} else {\n  return 'CREATED: ' + semanticViewFqn;\n}\n$$;"
  },
  {
   "cell_type": "code",
   "execution_count": null,
   "id": "dd88a401-ab74-4cdf-a67c-090d7063c1fb",
   "metadata": {
    "language": "sql",
    "name": "Part3__Execute_SPROC"
   },
   "outputs": [],
   "source": "-- Execuiton\nCALL CREATE_SEMANTIC_VIEW_FROM_STAGE_YAML(\n  'TKO_APJ_SEMANTIC_VIEW.TPCDS_SF10TCL',\n  '@TKO_APJ_SEMANTIC_VIEW.TPCDS_SF10TCL.YAML/TPCDS_SEMANTIC_VIEW.yaml',\n  FALSE  -- set to TRUE to validate only\n);"
  },
  {
   "cell_type": "code",
   "execution_count": null,
   "id": "ad5ca00d-c90d-45ab-ba41-0c1131cf9bb5",
   "metadata": {
    "language": "sql",
    "name": "Part_3__Get_Definition"
   },
   "outputs": [],
   "source": "-- Inspect the created Semantic View:\nselect get_ddl(\n'SEMANTIC_VIEW',          \n'TKO_APJ_SEMANTIC_VIEW.TPCDS_SF10TCL.TPCDS_SEMANTIC_VIEW_SM', \ntrue)"
  },
  {
   "cell_type": "markdown",
   "id": "93de6c4d-0524-4037-8377-4bc0fcef40f2",
   "metadata": {
    "collapsed": false,
    "name": "Part_3__Convert_Semantic_View_to_Yaml"
   },
   "source": "### 3-2. Semantic View to YAML\n\n`SYSTEM$READ_YAML_FROM_SEMANTIC_VIEW` Function allows you to translate a YAML -based Semantic model from a semantic view object."
  },
  {
   "cell_type": "code",
   "execution_count": null,
   "id": "01073f70-58a8-4c91-8c27-5f0b277a184c",
   "metadata": {
    "language": "sql",
    "name": "Part_3__Convert_View_to_Yaml"
   },
   "outputs": [],
   "source": [
    "-- Read the YAML representation of the Semantic View\n",
    "SELECT SYSTEM$READ_YAML_FROM_SEMANTIC_VIEW('TKO_APJ_SEMANTIC_VIEW.TPCDS_SF10TCL.TPCDS_SEMANTIC_VIEW_SM') AS yaml_format"
   ]
  },
  {
   "cell_type": "markdown",
   "id": "0f48d420-5173-456e-9fc2-6963b56fca3a",
   "metadata": {
    "name": "Part_3__read_yaml",
    "collapsed": false
   },
   "source": "You can store a YAML file into a Snowflake stage by utilizing `SYSTEM$READ_YAML_FROM_SEMANTIC_VIEW` in conjunction with the **Copy File** command. Note that the parameters FIELD_DELIMITER, RECORD_DELIMITER, and FIELD_OPTIONALLY_ENCLOSED_BY within the FILE_FORMAT are configured as None during the creation of a YAML format.  "
  },
  {
   "cell_type": "code",
   "execution_count": null,
   "id": "94721d1a-df12-44f6-a52e-72ea2bf482ea",
   "metadata": {
    "language": "sql",
    "name": "Part_3__Save_In_Stage"
   },
   "outputs": [],
   "source": [
    "-- Save the YAML to an internal stage file\n",
    "COPY INTO @TKO_APJ_SEMANTIC_VIEW.TPCDS_SF10TCL.YAML/TPCDS_SEMANTIC_VIEW_2.yaml\n",
    "FROM (\n",
    "  SELECT SYSTEM$READ_YAML_FROM_SEMANTIC_VIEW('TKO_APJ_SEMANTIC_VIEW.TPCDS_SF10TCL.TPCDS_SEMANTIC_VIEW_SM')\n",
    ")\n",
    "FILE_FORMAT = (\n",
    "  TYPE = CSV\n",
    "  FIELD_DELIMITER = NONE \n",
    "  RECORD_DELIMITER = NONE\n",
    "  FIELD_OPTIONALLY_ENCLOSED_BY = NONE\n",
    "  COMPRESSION = NONE\n",
    ")\n",
    "SINGLE = TRUE\n",
    "OVERWRITE = TRUE;"
   ]
  },
  {
   "cell_type": "code",
   "execution_count": null,
   "id": "2d2f7f5b-567f-4c41-bafd-da12192cbd89",
   "metadata": {
    "language": "sql",
    "name": "Part_3__Check_Stage"
   },
   "outputs": [],
   "source": [
    "-- Verify the file was saved to the stage\n",
    "ls @YAML"
   ]
  },
  {
   "cell_type": "markdown",
   "id": "73ddfcf3-2439-469e-b804-fa4ef2ab6009",
   "metadata": {
    "collapsed": false,
    "name": "Part_4__Query_Semantic_View"
   },
   "source": "## Part 4: Querying a Semantic View\nPractice querying the Semantic View using dimensions, metrics, and filters expressed in business terms.\nExample Query (Semantic View Syntax)\n"
  },
  {
   "cell_type": "code",
   "execution_count": null,
   "id": "48551939-98a4-4b2f-baab-e984d38d04f4",
   "metadata": {
    "language": "sql",
    "name": "Part_3__Execute_1"
   },
   "outputs": [],
   "source": [
    "-- Example query using the Semantic View syntax\n",
    "SELECT * FROM SEMANTIC_VIEW\n",
    "( \n",
    " TPCDS_SEMANTIC_VIEW_SM\n",
    "    DIMENSIONS \n",
    "            Item.Brand,\n",
    "            Item.Category,            \n",
    "            Date.Year,\n",
    "            Date.Month,\n",
    "            Store.State\n",
    "    METRICS \n",
    "        StoreSales.TotalSalesQuantity\n",
    "    WHERE\n",
    "        Date.Year = '2002' AND Date.Month = '12' AND Store.State ='TX' AND Item.Category = 'Books'\n",
    ") \n",
    "ORDER BY TotalSalesQuantity DESC LIMIT 10;"
   ]
  },
  {
   "cell_type": "markdown",
   "id": "6ad6a878-cfc1-4ae3-be46-e7c0e08257af",
   "metadata": {
    "name": "Part_3__explain_query_w_sv",
    "collapsed": false
   },
   "source": "Let's break down each part:\n- `SELECT * FROM SEMANTIC_VIEW (view_name ...)`: This initiates your query, indicating that you want to retrieve data from a semantic view\n- `METRICS metric1, metric2, ...`: Within the parentheses, specify the metrics (calculated values or totals) you wish to retrieve\n- `DIMENSIONS dimension1, dimension2, ...`: Next, specify the dimensions (categories or attributes) you want to group or filter your data by\n\nYou can enhance your queries with standard SQL clauses:\n\n- Filtering: Use `WHERE` clauses to filter your results\n- Sorting: Use `ORDER BY` to sort your results\n- Limiting: Use `LIMIT` to restrict the number of results"
  },
  {
   "cell_type": "markdown",
   "id": "a3824252-41f6-4b52-9db7-03df1e32d68a",
   "metadata": {
    "collapsed": false,
    "name": "Part_5__Integrate_with_Agents"
   },
   "source": "## Part 5: Query Semantic Views with Cortex Analyst\nThis section focuses on enhancing Semantic View accuracy. You will learn to achieve this by leveraging natural language questions.\n\n### 5-1. Access to Cortex Analyst\n\nThis step involves setting up Cortex Agents with Semantic View via Snowsight.  \n\n1. Sign in to **Snowsight**.\n2. Navigate to **AI & ML** » **Cortex Analyst**.\n3. Select the “**Semantic views**” tab on the top.\n4. Choose `TPCDS_SEMANTIC_VIEW_SM` in the list.\n5. Select the “**Playground**” tab on the right.\n"
  },
  {
   "cell_type": "markdown",
   "id": "5a267d89-bc10-4c53-b703-bb1d66c691e9",
   "metadata": {
    "name": "Part_5__ask_questions",
    "collapsed": false
   },
   "source": "### 5-2. Ask questions\nPrior to making any changes to the semantic view, you will assess its current accuracy by asking a series of questions below. \n\n#### 1. Ask questions in Cortex Analyst UI\nCopy and Paste a question from the following list into your playground, and run it\n\n1. **Please display 10 sample records from the ITEM table where BRAND is ‘edu packunivamalg’**\n2. **Show me metrics_x for each store in the US in 2003**\n3. **Display all records from the STORESALES table**\n\n#### 2. Check Answers:  \nYou may receive errors in each question."
  },
  {
   "cell_type": "markdown",
   "id": "dec3d869-f45f-4e72-9d6b-643b8f997cf4",
   "metadata": {
    "collapsed": false,
    "name": "Part_5__Navigate_Cortex_Agents_page"
   },
   "source": [
    "**Option2: Snowsight UI**\n",
    "1. Sign in to Snowsight.\n",
    "2. Navigate to AI & ML → Agents.\n",
    "3. Click \"Create Agent\" and follow the guided setup.\n",
    "4. Associate your Semantic View or upload a YAML model when prompted."
   ]
  },
  {
   "cell_type": "markdown",
   "id": "2fa21dbe-b2ec-4e61-a6f8-7f086f329462",
   "metadata": {
    "collapsed": false,
    "name": "Part_5__Ask_Question"
   },
   "source": "### 5-3. Update Semantic View \n\nIf a natural language query fails due to an exact match not being found, you can integrate **Cortex Search** for columns with many unique values to handle typos and partial matches.\n\n#### Steps to Integrate Cortex Search"
  },
  {
   "cell_type": "code",
   "execution_count": null,
   "id": "67f06dbd-b34e-4574-ab21-8dc5ddd11d26",
   "metadata": {
    "language": "sql",
    "name": "Part_5__Creating_Cortex_Search"
   },
   "outputs": [],
   "source": "-- 1. Create a source table for the search service. \nCREATE OR REPLACE TABLE ITEM_BRAND AS \n    SELECT DISTINCT I_BRAND FROM ITEM;\n\n-- 2. Create the Cortex Search Service:\nCREATE OR REPLACE CORTEX SEARCH SERVICE ITEM_BRAND_SEARCH_SERVICE\n  ON I_BRAND\n  WAREHOUSE = TKP_APJ_SEMANTIC_VIEW_WH\n  TARGET_LAG = '1 day'\n  EMBEDDING_MODEL = 'snowflake-arctic-embed-l-v2.0'\n  AS (\n    SELECT\n        I_BRAND,\n    FROM ITEM_BRAND\n);"
  },
  {
   "cell_type": "markdown",
   "id": "eed21a6a-5dfe-4571-a5ad-d2a2256841ce",
   "metadata": {
    "name": "Part_5__recreate_sv",
    "collapsed": false
   },
   "source": "#### Recreate the Semantic View to include the Cortex Search Service:\n\nHere is a SQL code to update the existing Semantic View."
  },
  {
   "cell_type": "code",
   "execution_count": null,
   "id": "8fda2080-ed67-40b0-b505-2d2183c713af",
   "metadata": {
    "codeCollapsed": false,
    "language": "sql",
    "name": "Part_5__Change_Semantic_View"
   },
   "outputs": [],
   "source": "-- Add synonyms to improve natural language understanding in Cortex Agents\n\nUSE SCHEMA TKO_APJ_SEMANTIC_VIEW.TPCDS_SF10TCL;\n\nCREATE OR REPLACE SEMANTIC VIEW TKO_APJ_SEMANTIC_VIEW.TPCDS_SF10TCL.TPCDS_SEMANTIC_VIEW_SM\n\ttables (\n\t\tCUSTOMER primary key (C_CUSTOMER_SK),\n\t\tDATE as DATE_DIM primary key (D_DATE_SK),\n\t\tDEMO as CUSTOMER_DEMOGRAPHICS primary key (CD_DEMO_SK),\n\t\tITEM primary key (I_ITEM_SK),\n\t\tSTORE primary key (S_STORE_SK),\n\t\tSTORESALES as STORE_SALES primary key (SS_SOLD_DATE_SK,SS_CDEMO_SK,SS_ITEM_SK,SS_STORE_SK,SS_CUSTOMER_SK)\n\t)\n\trelationships (\n\t\tSALESTOCUSTOMER as STORESALES(SS_CUSTOMER_SK) references CUSTOMER(C_CUSTOMER_SK),\n\t\tSALESTODATE as STORESALES(SS_SOLD_DATE_SK) references DATE(D_DATE_SK),\n\t\tSALESTODEMO as STORESALES(SS_CDEMO_SK) references DEMO(CD_DEMO_SK),\n\t\tSALESTOITEM as STORESALES(SS_ITEM_SK) references ITEM(I_ITEM_SK),\n\t\tSALETOSTORE as STORESALES(SS_STORE_SK) references STORE(S_STORE_SK)\n\t)\n\tfacts (\n\t\tITEM.COST as i_wholesale_cost,\n\t\tITEM.PRICE as i_current_price,\n\t\tSTORE.TAX_RATE as S_TAX_PRECENTAGE,\n\t\tSTORESALES.SALES_QUANTITY as SS_QUANTITY\n\t)\n\tdimensions (\n\t\tCUSTOMER.BIRTHYEAR as C_BIRTH_YEAR,\n\t\tCUSTOMER.COUNTRY as C_BIRTH_COUNTRY,\n\t\tCUSTOMER.C_CUSTOMER_SK as c_customer_sk,\n\t\tDATE.DATE as D_DATE,\n\t\tDATE.D_DATE_SK as d_date_sk,\n\t\tDATE.MONTH as D_MOY,\n\t\tDATE.WEEK as D_WEEK_SEQ,\n\t\tDATE.YEAR as D_YEAR,\n\t\tDEMO.CD_DEMO_SK as cd_demo_sk,\n\t\tDEMO.CREDIT_RATING as CD_CREDIT_RATING,\n\t\tDEMO.MARITAL_STATUS as CD_MARITAL_STATUS,\n        -- Add Cortex Search \n\t\tITEM.BRAND as I_BRAND with cortex search service ITEM_BRAND_SEARCH_SERVICE,\n\t\t\n        ITEM.CATEGORY as I_CATEGORY,\n\t\tITEM.CLASS as I_CLASS,\n\t\tITEM.I_ITEM_SK as i_item_sk,\n\t\tSTORE.MARKET as S_MARKET_ID,\n\t\tSTORE.SQUAREFOOTAGE as S_FLOOR_SPACE,\n\t\tSTORE.STATE as S_STATE,\n\t\tSTORE.STORECOUNTRY as S_COUNTRY,\n\t\tSTORE.S_STORE_SK as s_store_sk,\n\t\tSTORESALES.SS_CDEMO_SK as ss_cdemo_sk,\n\t\tSTORESALES.SS_CUSTOMER_SK as ss_customer_sk,\n\t\tSTORESALES.SS_ITEM_SK as ss_item_sk,\n\t\tSTORESALES.SS_SOLD_DATE_SK as ss_sold_date_sk,\n\t\tSTORESALES.SS_STORE_SK as ss_store_sk\n\t)\n\tmetrics (\n\t\tSTORESALES.TOTALCOST as SUM(item.cost),\n\t\tSTORESALES.TOTALSALESPRICE as SUM(SS_SALES_PRICE),\n\t\tSTORESALES.TOTALSALESQUANTITY as SUM(SS_QUANTITY) with synonyms=('metrics_x','total sales amount','total sales quantity') -- Add metrics_x\n\t)\n\twith extension (CA='{\"module_custom_instructions\":{\"sql_generation\":\"Ensure output is limited to 10000 records\"}}') -- Add custom instructions\n;"
  },
  {
   "cell_type": "markdown",
   "id": "5ef908c9-a80e-4b43-a117-57a891f50a52",
   "metadata": {
    "name": "Part_5_4__ask_questions",
    "collapsed": false
   },
   "source": "### 5-4. Access to Cortex Analyst to ask same questions again\nyou will assess its improved accuracy by asking the same series of questions as 5-2. parts. Let’s move to Cortex Analyst UI. \n\nThis step involves setting up Cortex Agents with Semantic View via Snowsight.  \n\n1. Sign in to **Snowsight**.\n2. Navigate to **AI & ML** » **Cortex Analyst**.\n3. Select the “**Semantic views**” tab on the top.\n4. Choose `TPCDS_SEMANTIC_VIEW_SM` in the list.\n5. Select the “**Playground**” tab on the right.\n6. Ask the same questions as part 5-2 and Check Answer \n"
  },
  {
   "cell_type": "markdown",
   "id": "641bb149-5e3f-4abf-bcc6-d9a2e21a3df6",
   "metadata": {
    "collapsed": false,
    "name": "Part_5__Conclusion"
   },
   "source": [
    "[**Tips to improve performance for Semantic Model**]\n",
    "\n",
    "Start with simple model tweaks (synonyms, samples) before adding Cortex Search or verified queries.\n",
    "\n",
    "- ***Synonyms & descriptions***: Align column names and synonyms with user language; include key info like time zones.\n",
    "- ***Multilingual synonyms***: Add synonyms in user languages (e.g., Japanese, Korean) for better query understanding.\n",
    "- ***Sample values***: Provide examples to help the LLM link user terms (e.g., “Snowflake” vs “Snowflake Inc.”) to actual data.\n",
    "- ***Cortex Search integration***: Use Search for columns with many unique values to handle typos and partial matches.\n",
    "- ***Verified query repository***: Store trusted, complex SQL logic for reuse and onboarding suggestions.\n",
    "- ***Custom instructions***: Use custom_instructions for clear behavioral rules; iterate gradually and test generated SQL.\n",
    "- ***Semi-structured data***: Flatten when possible; otherwise, use fuzzy matching or VQR to extract nested elements."
   ]
  }
 ]
}