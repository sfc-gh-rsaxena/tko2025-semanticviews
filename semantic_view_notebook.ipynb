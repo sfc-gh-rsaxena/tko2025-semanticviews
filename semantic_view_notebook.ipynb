{
 "cells": [
  {
   "cell_type": "markdown",
   "id": "b6f59bdd-aebf-40bd-8f4a-4348b71d8680",
   "metadata": {
    "collapsed": false,
    "name": "Introduction"
   },
   "source": [
    "# Introduction\n",
    "\n",
    "Snowflake Semantic Views let you define a clear, business-friendly data model directly on top of your existing tables and views. Both humans and AI tools can then explore and query data using familiar business terms rather than raw table structures.\n",
    "\n",
    "## What is included in a Semantic View?\n",
    "\n",
    "- Logical tables: Business entities (for example, CUSTOMER or ORDERS) that reference your physical tables or views.\n",
    "- Relationships: Explicit links between logical tables (for example, CUSTOMER to ORDERS via a foreign key).\n",
    "- Dimensions: Attributes used to group, filter, or provide context (for example, Customer Region, Product Category, Order Date).\n",
    "- Metrics: Business KPIs defined as calculations or aggregations (for example, Total Sales, Average Order Value). These are derived from underlying facts.\n",
    "\n",
    "## How will you use this notebook?\n",
    "\n",
    "- You will create simple views over sample data.\n",
    "- You will build and inspect a Semantic View using both SQL and YAML.\n",
    "- You will learn how to convert between YAML and a Semantic View.\n",
    "- You will run example queries using the Semantic View syntax.\n",
    "- You will see how to apply the model with Snowflake AI features.\n"
   ]
  },
  {
   "cell_type": "markdown",
   "id": "81f18578-de8e-425b-ae0e-2b70114adfbc",
   "metadata": {
    "collapsed": false,
    "name": "Part_1__Create_Data"
   },
   "source": [
    "### Part 1: Prepare Data for a Meaningful Model\n",
    "\n",
    "In this section, you will use publicly available Snowflake sample data (via a share) to create simple views that our Semantic View will reference later. This keeps the exercise focused on modeling rather than data loading."
   ]
  },
  {
   "cell_type": "code",
   "execution_count": null,
   "id": "2ceb7387-5586-4d08-b321-229bc2d9e87b",
   "metadata": {
    "language": "sql",
    "name": "Part_1__Schema"
   },
   "outputs": [],
   "source": [
    "USE SCHEMA TKO_APJ_SEMANTIC_VIEW.TPCDS_SF10TCL;"
   ]
  },
  {
   "cell_type": "code",
   "execution_count": null,
   "id": "3775908f-ca36-4846-8f38-5adca39217f2",
   "metadata": {
    "codeCollapsed": false,
    "language": "sql",
    "name": "Part_1__Execute"
   },
   "outputs": [],
   "source": [
    "-- Create or replace views for the tables from SNOWFLAKE_SAMPLE_DATA.TPCDS_SF10TCL\n",
    "CREATE OR REPLACE VIEW CUSTOMER AS\n",
    "SELECT * FROM SNOWFLAKE_SAMPLE_DATA.TPCDS_SF10TCL.CUSTOMER;\n",
    "\n",
    "CREATE OR REPLACE VIEW CUSTOMER_DEMOGRAPHICS AS\n",
    "SELECT * FROM SNOWFLAKE_SAMPLE_DATA.TPCDS_SF10TCL.CUSTOMER_DEMOGRAPHICS;\n",
    "\n",
    "CREATE OR REPLACE VIEW DATE_DIM AS\n",
    "SELECT * FROM SNOWFLAKE_SAMPLE_DATA.TPCDS_SF10TCL.DATE_DIM;\n",
    "\n",
    "CREATE OR REPLACE VIEW ITEM AS\n",
    "SELECT * FROM SNOWFLAKE_SAMPLE_DATA.TPCDS_SF10TCL.ITEM;\n",
    "\n",
    "CREATE OR REPLACE VIEW STORE AS\n",
    "SELECT * FROM SNOWFLAKE_SAMPLE_DATA.TPCDS_SF10TCL.STORE;\n",
    "\n",
    "CREATE OR REPLACE VIEW STORE_SALES AS\n",
    "SELECT * FROM SNOWFLAKE_SAMPLE_DATA.TPCDS_SF10TCL.STORE_SALES;\n",
    "\n",
    "-- Query the Data\n",
    "SHOW VIEWS;\n",
    "SELECT * FROM CUSTOMER LIMIT 20;"
   ]
  },
  {
   "cell_type": "markdown",
   "id": "b8b25bb8-fe4e-4c87-8cc5-333d5b7facac",
   "metadata": {
    "collapsed": false,
    "name": "Part_2__Create_View"
   },
   "source": [
    "### Part 2: Define the Semantic Model and Create a Semantic View\n",
    "In this section, you will review a YAML-based semantic model and use it to create a Semantic View. You will also learn how to validate the YAML in the UI and via SQL."
   ]
  },
  {
   "cell_type": "markdown",
   "id": "3417148e-9bc2-4d97-bb81-9f492c62d4c5",
   "metadata": {
    "collapsed": false,
    "name": "Part_2__Define_Yaml_File"
   },
   "source": [
    "### Review the YAML file\n",
    "The YAML file has already been downloaded from the GitHub repository in `setup.sql`. In this step, you will verify that the file exists on the stage and review its contents."
   ]
  },
  {
   "cell_type": "code",
   "execution_count": null,
   "id": "9d1257e7-b65d-47bd-ae9c-54f91f0da221",
   "metadata": {
    "language": "sql",
    "name": "Part_2__Check_stage"
   },
   "outputs": [],
   "source": [
    "-- List files in the YAML stage\n",
    "ls @YAML;"
   ]
  },
  {
   "cell_type": "code",
   "execution_count": null,
   "id": "0619b305-cec7-43e5-aba7-e3b4c913fe37",
   "metadata": {
    "codeCollapsed": false,
    "language": "python",
    "name": "Part_2__Check_Content_In_Yaml"
   },
   "outputs": [],
   "source": [
    "import os\n",
    "import yaml\n",
    "import streamlit as st\n",
    "from snowflake.snowpark import Session\n",
    "from snowflake.snowpark.context import get_active_session\n",
    "\n",
    "def read_yaml_from_stage(session: Session,\n",
    "                         stage_path: str,\n",
    "                         local_dir: str = \"/tmp\") -> dict:\n",
    "    \"\"\"\n",
    "    Retrieve the YAML file from the stage to local, load it, and return its contents as a dict.\n",
    "\n",
    "    :param session: Snowpark session\n",
    "    :param stage_path: File path on the stage (e.g. \"@MY_STAGE/configs/my_config.yaml\")\n",
    "    :param local_dir: Local directory to save the file (a writable area in the workspace)\n",
    "    :return: YAML contents parsed into a dict\n",
    "    \"\"\"\n",
    "    # → Fetch locally\n",
    "    get_results = session.file.get(stage_path, local_dir)\n",
    "    # get_results is a list containing info about the downloaded files\n",
    "    if not get_results:\n",
    "        raise FileNotFoundError(f\"Failed to get file from stage: {stage_path}\")\n",
    "    # Normally get returns a list. Take the first result’s local file path\n",
    "    local_path = get_results[0].file\n",
    "    # Combine local_dir + the file name (if it’s not an absolute path)\n",
    "    full_local_path = os.path.join(local_dir, local_path) if not os.path.isabs(local_path) else local_path\n",
    "\n",
    "    # Load the YAML\n",
    "    with open(full_local_path, 'r', encoding='utf-8') as f:\n",
    "        yaml_data = yaml.safe_load(f)\n",
    "\n",
    "    return yaml_data\n",
    "\n",
    "session = get_active_session()\n",
    "stage_yaml = \"@TKO_APJ_SEMANTIC_VIEW.TPCDS_SF10TCL.YAML/TPCDS_SEMANTIC_VIEW.yaml\"\n",
    "try:\n",
    "    config = read_yaml_from_stage(session, stage_yaml, local_dir=\"/tmp\")\n",
    "    st.write(config)\n",
    "except Exception as e:\n",
    "    st.error(\"Error reading YAML:\", e)"
   ]
  },
  {
   "cell_type": "markdown",
   "id": "87274bac-6962-4916-9329-e6e30750dce6",
   "metadata": {
    "collapsed": false,
    "name": "Part_2__Optional_Semantic_View"
   },
   "source": [
    "### (Optional) Create a Semantic View via SQL\n",
    "You can create a Semantic View directly with SQL. This example mirrors the YAML-defined model so you can compare both approaches."
   ]
  },
  {
   "cell_type": "code",
   "execution_count": null,
   "id": "8d50cbf4-0c8d-4950-86cb-114990437ac9",
   "metadata": {
    "language": "sql",
    "name": "Optional_Part_2__Create_Semantic_View"
   },
   "outputs": [],
   "source": [
    "USE SCHEMA TKO_APJ_SEMANTIC_VIEW.TPCDS_SF10TCL;\n",
    "CREATE OR REPLACE SEMANTIC VIEW TPCDS_SEMANTIC_VIEW_SM\n",
    "\ttables (\n",
    "\t\tCUSTOMER primary key (C_CUSTOMER_SK),\n",
    "\t\tDATE as DATE_DIM primary key (D_DATE_SK),\n",
    "\t\tDEMO as CUSTOMER_DEMOGRAPHICS primary key (CD_DEMO_SK),\n",
    "\t\tITEM primary key (I_ITEM_SK),\n",
    "\t\tSTORE primary key (S_STORE_SK),\n",
    "\t\tSTORESALES as STORE_SALES\n",
    "        primary key (SS_SOLD_DATE_SK,SS_CDEMO_SK,SS_ITEM_SK,SS_STORE_SK,SS_CUSTOMER_SK)\n",
    "\t)\n",
    "\trelationships (\n",
    "\t\tSALESTOCUSTOMER as STORESALES(SS_CUSTOMER_SK) references CUSTOMER(C_CUSTOMER_SK),\n",
    "\t\tSALESTODATE as STORESALES(SS_SOLD_DATE_SK) references DATE(D_DATE_SK),\n",
    "\t\tSALESTODEMO as STORESALES(SS_CDEMO_SK) references DEMO(CD_DEMO_SK),\n",
    "\t\tSALESTOITEM as STORESALES(SS_ITEM_SK) references ITEM(I_ITEM_SK),\n",
    "\t\tSALETOSTORE as STORESALES(SS_STORE_SK) references STORE(S_STORE_SK)\n",
    "\t)\n",
    "\tfacts (\n",
    "\t\tITEM.COST as i_wholesale_cost,\n",
    "\t\tITEM.PRICE as i_current_price,\n",
    "\t\tSTORE.TAX_RATE as S_TAX_PRECENTAGE,\n",
    "        STORESALES.SALES_QUANTITY as SS_QUANTITY\n",
    "\t)\n",
    "\tdimensions (\n",
    "\t\tCUSTOMER.BIRTHYEAR as C_BIRTH_YEAR,\n",
    "\t\tCUSTOMER.COUNTRY as C_BIRTH_COUNTRY,\n",
    "\t\tCUSTOMER.C_CUSTOMER_SK as c_customer_sk,\n",
    "\t\tDATE.DATE as D_DATE,\n",
    "\t\tDATE.D_DATE_SK as d_date_sk,\n",
    "\t\tDATE.MONTH as D_MOY,\n",
    "\t\tDATE.WEEK as D_WEEK_SEQ,\n",
    "\t\tDATE.YEAR as D_YEAR,\n",
    "\t\tDEMO.CD_DEMO_SK as cd_demo_sk,\n",
    "\t\tDEMO.CREDIT_RATING as CD_CREDIT_RATING,\n",
    "\t\tDEMO.MARITAL_STATUS as CD_MARITAL_STATUS,\n",
    "\t\tITEM.BRAND as I_BRAND,\n",
    "\t\tITEM.CATEGORY as I_CATEGORY,\n",
    "\t\tITEM.CLASS as I_CLASS,\n",
    "\t\tITEM.I_ITEM_SK as i_item_sk,\n",
    "\t\tSTORE.MARKET as S_MARKET_ID,\n",
    "\t\tSTORE.SQUAREFOOTAGE as S_FLOOR_SPACE,\n",
    "\t\tSTORE.STATE as S_STATE,\n",
    "\t\tSTORE.STORECOUNTRY as S_COUNTRY,\n",
    "\t\tSTORE.S_STORE_SK as s_store_sk,\n",
    "\t\tSTORESALES.SS_CDEMO_SK as ss_cdemo_sk,\n",
    "\t\tSTORESALES.SS_CUSTOMER_SK as ss_customer_sk,\n",
    "\t\tSTORESALES.SS_ITEM_SK as ss_item_sk,\n",
    "\t\tSTORESALES.SS_SOLD_DATE_SK as ss_sold_date_sk,\n",
    "\t\tSTORESALES.SS_STORE_SK as ss_store_sk\n",
    "\t)\n",
    "\tmetrics (\n",
    "\t\tSTORESALES.TOTALCOST as SUM(item.cost),\n",
    "\t\tSTORESALES.TOTALSALESPRICE as SUM(SS_SALES_PRICE),\n",
    "\t\tSTORESALES.TOTALSALESQUANTITY as SUM(SS_QUANTITY)\n",
    "            WITH SYNONYMS = ( 'total sales quantity', 'total sales amount')\n",
    "\t)\n",
    ";\n"
   ]
  },
  {
   "cell_type": "code",
   "execution_count": null,
   "id": "9cf4f038-2b4f-4708-9035-7436db405ed3",
   "metadata": {
    "language": "sql",
    "name": "Optional_Part_2__Check_Semantic_View"
   },
   "outputs": [],
   "source": [
    "DESC SEMANTIC VIEW TPCDS_SEMANTIC_VIEW_SM;"
   ]
  },
  {
   "cell_type": "markdown",
   "id": "7b1927f1-9ed4-4aef-b68c-eca1e0fbbef0",
   "metadata": {
    "collapsed": false,
    "name": "Part_3__How_to_Convert_semantic_model"
   },
   "source": [
    "## Part 3: Convert Between YAML and Semantic Views\n",
    "In this part, you will learn how to convert a Semantic View into its YAML representation and how to create a Semantic View from YAML. Snowflake supports both SQL functions and a Snowsight UI flow for these conversions."
   ]
  },
  {
   "cell_type": "markdown",
   "id": "59cdb34e-730a-4a4a-8efa-4baa954a1a51",
   "metadata": {
    "collapsed": false,
    "name": "Part_3__Convert_Snowsight"
   },
   "source": [
    "### Method 1: Using Snowsight (UI)\n",
    "Snowsight provides a no-code way to convert between a Semantic View and a YAML model.\n",
    "1. Sign in to Snowsight.\n",
    "2. Navigate to AI & ML → Cortex Analyst.\n",
    "3. Select \"Create new\" → \"Upload YAML file\" to create from YAML, or open an existing Semantic View to export as YAML.\n",
    "4. Follow the prompts to validate and save.\n"
   ]
  },
  {
   "cell_type": "markdown",
   "id": "3a491bb3-fce5-42e7-a5c4-40a29845e8de",
   "metadata": {
    "collapsed": false,
    "name": "Part_3__Convert_SQL"
   },
   "source": [
    "### Method 2: Using SQL Functions\n",
    "The following examples demonstrate how to invoke the built-in functions to convert between YAML and Semantic Views directly from SQL."
   ]
  },
  {
   "cell_type": "markdown",
   "id": "c096190a-449f-4c94-a911-ac851f661e62",
   "metadata": {
    "collapsed": false,
    "name": "Part_3__Convert_YAML_to_Semntic_View"
   },
   "source": [
    "### YAML to Semantic View\n",
    "\n",
    "Reference: `system_create_semantic_view_from_yaml` (see Snowflake documentation)."
   ]
  },
  {
   "cell_type": "code",
   "execution_count": null,
   "id": "165e1926-dd58-4f1b-bdb5-086a55ef0ce4",
   "metadata": {
    "language": "sql",
    "name": "Part_3__Syntax_Example"
   },
   "outputs": [],
   "source": [
    "-- Example: Creating a Semantic View from an inline YAML string\n",
    "-- Note: This example may fail if referenced objects do not exist in your account.\n",
    "CALL SYSTEM$CREATE_SEMANTIC_VIEW_FROM_YAML(\n",
    "  'my_db.my_schema',\n",
    "  $$\n",
    "  name: TPCH_REV_ANALYSIS\n",
    "  description: Semantic view for revenue analysis\n",
    "  tables:\n",
    "    - name: CUSTOMERS\n",
    "      description: Main table for customer data\n",
    "      base_table:\n",
    "        database: SNOWFLAKE_SAMPLE_DATA\n",
    "        schema: TPCH_SF1\n",
    "        table: CUSTOMER\n",
    "      primary_key:\n",
    "        columns:\n",
    "          - C_CUSTKEY\n",
    "      dimensions:\n",
    "        - name: CUSTOMER_NAME\n",
    "          synonyms:\n",
    "            - customer name\n",
    "          description: Name of the customer\n",
    "          expr: customers.c_name\n",
    "          data_type: VARCHAR(25)\n",
    "        - name: C_CUSTKEY\n",
    "          expr: C_CUSTKEY\n",
    "          data_type: VARCHAR(134217728)\n",
    "      metrics:\n",
    "        - name: CUSTOMER_COUNT\n",
    "          description: Count of number of customers\n",
    "          expr: COUNT(c_custkey)\n",
    "    - name: LINE_ITEMS\n",
    "      description: Line items in orders\n",
    "      base_table:\n",
    "        database: SNOWFLAKE_SAMPLE_DATA\n",
    "        schema: TPCH_SF1\n",
    "        table: LINEITEM\n",
    "      primary_key:\n",
    "        columns:\n",
    "          - L_ORDERKEY\n",
    "          - L_LINENUMBER\n",
    "      dimensions:\n",
    "        - name: L_ORDERKEY\n",
    "          expr: L_ORDERKEY\n",
    "          data_type: VARCHAR(134217728)\n",
    "        - name: L_LINENUMBER\n",
    "          expr: L_LINENUMBER\n",
    "          data_type: VARCHAR(134217728)\n",
    "      facts:\n",
    "        - name: DISCOUNTED_PRICE\n",
    "          description: Extended price after discount\n",
    "          expr: l_extendedprice * (1 - l_discount)\n",
    "          data_type: \"NUMBER(25,4)\"\n",
    "        - name: LINE_ITEM_ID\n",
    "          expr: \"CONCAT(l_orderkey, '-', l_linenumber)\"\n",
    "          data_type: VARCHAR(134217728)\n",
    "    - name: ORDERS\n",
    "      synonyms:\n",
    "        - sales orders\n",
    "      description: All orders table for the sales domain\n",
    "      base_table:\n",
    "        database: SNOWFLAKE_SAMPLE_DATA\n",
    "        schema: TPCH_SF1\n",
    "        table: ORDERS\n",
    "      primary_key:\n",
    "        columns:\n",
    "          - O_ORDERKEY\n",
    "      dimensions:\n",
    "        - name: ORDER_DATE\n",
    "          description: Date when the order was placed\n",
    "          expr: o_orderdate\n",
    "          data_type: DATE\n",
    "        - name: ORDER_YEAR\n",
    "          description: Year when the order was placed\n",
    "          expr: YEAR(o_orderdate)\n",
    "          data_type: \"NUMBER(4,0)\"\n",
    "        - name: O_ORDERKEY\n",
    "          expr: O_ORDERKEY\n",
    "          data_type: VARCHAR(134217728)\n",
    "        - name: O_CUSTKEY\n",
    "          expr: O_CUSTKEY\n",
    "          data_type: VARCHAR(134217728)\n",
    "      facts:\n",
    "        - name: COUNT_LINE_ITEMS\n",
    "          expr: COUNT(line_items.line_item_id)\n",
    "          data_type: \"NUMBER(18,0)\"\n",
    "      metrics:\n",
    "        - name: AVERAGE_LINE_ITEMS_PER_ORDER\n",
    "          description: Average number of line items per order\n",
    "          expr: AVG(orders.count_line_items)\n",
    "        - name: ORDER_AVERAGE_VALUE\n",
    "          description: Average order value across all orders\n",
    "          expr: AVG(orders.o_totalprice)\n",
    "  relationships:\n",
    "    - name: LINE_ITEM_TO_ORDERS\n",
    "      left_table: LINE_ITEMS\n",
    "      right_table: ORDERS\n",
    "      relationship_columns:\n",
    "        - left_column: L_ORDERKEY\n",
    "          right_column: O_ORDERKEY\n",
    "      relationship_type: many_to_one\n",
    "    - name: ORDERS_TO_CUSTOMERS\n",
    "      left_table: ORDERS\n",
    "      right_table: CUSTOMERS\n",
    "      relationship_columns:\n",
    "        - left_column: O_CUSTKEY\n",
    "          right_column: C_CUSTKEY\n",
    "      relationship_type: many_to_one\n",
    "  $$,\n",
    "TRUE);"
   ]
  },
  {
   "cell_type": "markdown",
   "id": "c391495e-b97e-49a9-8887-1427bdb387bf",
   "metadata": {
    "collapsed": false,
    "name": "Part_3__Note"
   },
   "source": [
    "**Note**: `SYSTEM$CREATE_SEMANTIC_VIEW_FROM_YAML` cannot read a YAML file directly from a stage. In the next step, you will create a stored procedure that reads the YAML from the stage and then calls the function with the YAML text."
   ]
  },
  {
   "cell_type": "code",
   "execution_count": null,
   "id": "973e787e-5446-462e-bfdb-6197621550c6",
   "metadata": {
    "language": "sql",
    "name": "Part3__Create_SPROC"
   },
   "outputs": [],
   "source": [
    "CREATE OR REPLACE PROCEDURE CREATE_SEMANTIC_VIEW_FROM_STAGE_YAML(\n",
    "    TARGET_SCHEMA STRING,          -- e.g. 'MY_DB.MY_SCHEMA' (must be fully-qualified)\n",
    "    STAGE_FILE_URL STRING,         -- e.g. '@MY_DB.MY_SCHEMA.MY_STAGE/path/model.yaml'\n",
    "    VERIFY_ONLY BOOLEAN DEFAULT FALSE\n",
    ")\n",
    "RETURNS STRING\n",
    "LANGUAGE JAVASCRIPT\n",
    "EXECUTE AS CALLER\n",
    "AS\n",
    "$$\n",
    "function exec(sql, binds) {\n",
    "  var s = snowflake.createStatement({ sqlText: sql, binds: binds || [] });\n",
    "  return s.execute();\n",
    "}\n",
    "\n",
    "// Split '<DB>.<SCHEMA>'\n",
    "function splitSchema(fqSchema) {\n",
    "  var parts = (fqSchema || '').split('.');\n",
    "  if (parts.length !== 2) {\n",
    "    throw new Error(\"TARGET_SCHEMA must be fully qualified as 'DB.SCHEMA': \" + fqSchema);\n",
    "  }\n",
    "  return { db: parts[0], schema: parts[1] };\n",
    "}\n",
    "\n",
    "// Extract the semantic view name from YAML (first top-level 'name:' line).\n",
    "// Handles simple quoted or unquoted names. If not found, throws.\n",
    "function extractViewNameFromYaml(yamlText) {\n",
    "  if (!yamlText) throw new Error(\"YAML text is empty.\");\n",
    "  var re = /^[ \\t]*name[ \\t]*:[ \\t]*(?:\"([^\"]+)\"|'([^']+)'|([^\\r\\n#]+))/mi;\n",
    "  var m = yamlText.match(re);\n",
    "  if (!m) {\n",
    "    throw new Error(\"Could not find a top-level 'name:' in the YAML specification.\");\n",
    "  }\n",
    "  var raw = (m[1] || m[2] || m[3] || \"\").trim();\n",
    "  // Remove inline trailing comments if present.\n",
    "  raw = raw.replace(/[ \\t]+#[^\\r\\n]*$/, \"\").trim();\n",
    "  return raw;\n",
    "}\n",
    "\n",
    "var ctx = splitSchema(TARGET_SCHEMA);\n",
    "\n",
    "// 1) Create a temporary file format to read YAML as a single column ($1).\n",
    "var ff_name = 'FF_YAML_' + Date.now();\n",
    "var ff_fqn  = ctx.db + '.' + ctx.schema + '.' + ff_name;\n",
    "\n",
    "exec(\n",
    "  'CREATE TEMPORARY FILE FORMAT ' + ff_fqn +\n",
    "  ' TYPE = CSV FIELD_DELIMITER = NONE RECORD_DELIMITER = NONE'\n",
    ");\n",
    "\n",
    "// 2) Read YAML from stage using the named file format.\n",
    "var yamlText;\n",
    "try {\n",
    "  var rs = exec(\n",
    "    'SELECT $1 AS YAML_TEXT FROM ' + STAGE_FILE_URL + ' (FILE_FORMAT => ?) LIMIT 1',\n",
    "    [ff_fqn]\n",
    "  );\n",
    "  if (!rs.next()) {\n",
    "    throw new Error('Failed to read YAML from stage: ' + STAGE_FILE_URL);\n",
    "  }\n",
    "  yamlText = String(rs.getColumnValue(1));\n",
    "} finally {\n",
    "  // Best-effort cleanup (TEMP also drops at session end).\n",
    "  try { exec('DROP FILE FORMAT IF EXISTS ' + ff_fqn); } catch (e) {}\n",
    "}\n",
    "\n",
    "// 3) Determine the target semantic view FQN from YAML.\n",
    "var viewNameFromYaml = extractViewNameFromYaml(yamlText);\n",
    "// Preserve quotes if the YAML used a quoted identifier with spaces.\n",
    "var semanticViewFqn = ctx.db + '.' + ctx.schema + '.' + viewNameFromYaml;\n",
    "\n",
    "// 4) Create or verify the semantic view from YAML.\n",
    "//    Note: the system proc returns a status string; we return the FQN explicitly.\n",
    "var callRs = exec(\n",
    "  'CALL SYSTEM$CREATE_SEMANTIC_VIEW_FROM_YAML(?, ?, ?)',\n",
    "  [ (ctx.db + '.' + ctx.schema), yamlText, VERIFY_ONLY ]\n",
    ");\n",
    "callRs.next(); // status (not used further)\n",
    "\n",
    "if (VERIFY_ONLY) {\n",
    "  return 'VERIFIED: ' + semanticViewFqn;\n",
    "} else {\n",
    "  return 'CREATED: ' + semanticViewFqn;\n",
    "}\n",
    "$$;"
   ]
  },
  {
   "cell_type": "code",
   "execution_count": null,
   "id": "dd88a401-ab74-4cdf-a67c-090d7063c1fb",
   "metadata": {
    "language": "sql",
    "name": "Part3__Execute_SPROC"
   },
   "outputs": [],
   "source": [
    "-- Create the Semantic View from the staged YAML\n",
    "CALL CREATE_SEMANTIC_VIEW_FROM_STAGE_YAML(\n",
    "  'TKO_APJ_SEMANTIC_VIEW.TPCDS_SF10TCL',\n",
    "  '@TKO_APJ_SEMANTIC_VIEW.TPCDS_SF10TCL.YAML/TPCDS_SEMANTIC_VIEW.yaml',\n",
    "  FALSE  -- set to TRUE to validate only\n",
    ");"
   ]
  },
  {
   "cell_type": "code",
   "execution_count": null,
   "id": "ed888b18-59b9-4e16-a7c9-e933f62230cc",
   "metadata": {
    "language": "sql",
    "name": "Part3__Check_Semantic_View"
   },
   "outputs": [],
   "source": [
    "-- Inspect the created Semantic View\n",
    "DESC SEMANTIC VIEW TKO_APJ_SEMANTIC_VIEW.TPCDS_SF10TCL.TPCDS_SEMANTIC_VIEW_SM"
   ]
  },
  {
   "cell_type": "markdown",
   "id": "93de6c4d-0524-4037-8377-4bc0fcef40f2",
   "metadata": {
    "collapsed": false,
    "name": "Part_3__Convert_Semantic_View_to_Yaml"
   },
   "source": [
    "### Semantic View to YAML\n",
    "\n",
    "Reference: `SYSTEM$READ_YAML_FROM_SEMANTIC_VIEW` (see Snowflake documentation)."
   ]
  },
  {
   "cell_type": "code",
   "execution_count": null,
   "id": "01073f70-58a8-4c91-8c27-5f0b277a184c",
   "metadata": {
    "language": "sql",
    "name": "Part_3__Convert_View_to_Yaml"
   },
   "outputs": [],
   "source": [
    "-- Read the YAML representation of the Semantic View\n",
    "SELECT SYSTEM$READ_YAML_FROM_SEMANTIC_VIEW('TKO_APJ_SEMANTIC_VIEW.TPCDS_SF10TCL.TPCDS_SEMANTIC_VIEW_SM') AS yaml_format"
   ]
  },
  {
   "cell_type": "code",
   "execution_count": null,
   "id": "94721d1a-df12-44f6-a52e-72ea2bf482ea",
   "metadata": {
    "language": "sql",
    "name": "Part_3__Save_In_Stage"
   },
   "outputs": [],
   "source": [
    "-- Save the YAML to an internal stage file\n",
    "COPY INTO @TKO_APJ_SEMANTIC_VIEW.TPCDS_SF10TCL.YAML/TPCDS_SEMANTIC_VIEW_2.yaml\n",
    "FROM (\n",
    "  SELECT SYSTEM$READ_YAML_FROM_SEMANTIC_VIEW('TKO_APJ_SEMANTIC_VIEW.TPCDS_SF10TCL.TPCDS_SEMANTIC_VIEW_SM')\n",
    ")\n",
    "FILE_FORMAT = (\n",
    "  TYPE = CSV\n",
    "  FIELD_DELIMITER = NONE \n",
    "  RECORD_DELIMITER = NONE\n",
    "  FIELD_OPTIONALLY_ENCLOSED_BY = NONE\n",
    "  COMPRESSION = NONE\n",
    ")\n",
    "SINGLE = TRUE\n",
    "OVERWRITE = TRUE;"
   ]
  },
  {
   "cell_type": "code",
   "execution_count": null,
   "id": "2d2f7f5b-567f-4c41-bafd-da12192cbd89",
   "metadata": {
    "language": "sql",
    "name": "Part_3__Check_Stage"
   },
   "outputs": [],
   "source": [
    "-- Verify the file was saved to the stage\n",
    "ls @YAML"
   ]
  },
  {
   "cell_type": "markdown",
   "id": "73ddfcf3-2439-469e-b804-fa4ef2ab6009",
   "metadata": {
    "collapsed": false,
    "name": "Part_4__Query_Semantic_View"
   },
   "source": [
    "### Part 4: Querying a Semantic View\n",
    "In this section, you will practice querying the Semantic View using dimensions, metrics, and filters expressed in business terms."
   ]
  },
  {
   "cell_type": "code",
   "execution_count": null,
   "id": "48551939-98a4-4b2f-baab-e984d38d04f4",
   "metadata": {
    "language": "sql",
    "name": "Part_3__Execute_1"
   },
   "outputs": [],
   "source": [
    "-- Example query using the Semantic View syntax\n",
    "SELECT * FROM SEMANTIC_VIEW\n",
    "( \n",
    " TPCDS_SEMANTIC_VIEW_SM\n",
    "    DIMENSIONS \n",
    "            Item.Brand,\n",
    "            Item.Category,            \n",
    "            Date.Year,\n",
    "            Date.Month,\n",
    "            Store.State\n",
    "    METRICS \n",
    "        StoreSales.TotalSalesQuantity\n",
    "    WHERE\n",
    "        Date.Year = '2002' AND Date.Month = '12' AND Store.State ='TX' AND Item.Category = 'Books'\n",
    ") \n",
    "ORDER BY TotalSalesQuantity DESC LIMIT 10;"
   ]
  },
  {
   "cell_type": "markdown",
   "id": "a3824252-41f6-4b52-9db7-03df1e32d68a",
   "metadata": {
    "collapsed": false,
    "name": "Part_5__Integrate_with_Agents"
   },
   "source": [
    "## Part 5: Integrate Semantic Views with Cortex Agents and Snowflake AI\n",
    "In this part, you will learn how to connect your Semantic View to Cortex Agents and review tips to improve accuracy and performance when working with natural language queries."
   ]
  },
  {
   "cell_type": "markdown",
   "id": "dec3d869-f45f-4e72-9d6b-643b8f997cf4",
   "metadata": {
    "collapsed": false,
    "name": "Part_5__Navigate_Cortex_Agents_page"
   },
   "source": [
    "1. Sign in to Snowsight.\n",
    "2. Navigate to AI & ML → Agents.\n",
    "3. Click \"Create Agent\" and follow the guided setup.\n",
    "4. Associate your Semantic View or upload a YAML model when prompted."
   ]
  },
  {
   "cell_type": "markdown",
   "id": "2fa21dbe-b2ec-4e61-a6f8-7f086f329462",
   "metadata": {
    "collapsed": false,
    "name": "Part_5__Ask_Question"
   },
   "source": [
    "Ask Cortex Agents:\n",
    "\n",
    "\"Please show 10 sample records where the ITEM table has a BRAND equal to 'edu packunivamalg'.\""
   ]
  },
  {
   "cell_type": "markdown",
   "id": "f8bf778b-6646-4375-83c7-52d17ed41b96",
   "metadata": {
    "collapsed": false,
    "name": "Part_5__Receive_Message"
   },
   "source": [
    "You may receive a response similar to the following from Cortex Agents:\n",
    "\n",
    "---\n",
    "The query executed successfully, but no records were found in the ITEM table with the exact brand name \"edu packunivamalg\". This typically means the requested value does not exist.\n",
    "\n",
    "The query looked for exact matches in the BRAND column and found 0 rows. Consider the following possibilities:\n",
    "\n",
    "- The brand name may not exist in this dataset.\n",
    "- There may be spelling, capitalization, or formatting differences.\n",
    "- The brand might appear as part of a longer string.\n",
    "\n",
    "Next steps you can try:\n",
    "1. Search for similar brand names (fuzzy match).\n",
    "2. List a sample of distinct brand names from the ITEM table.\n",
    "3. Search for brands that contain a partial match of this text.\n",
    "---"
   ]
  },
  {
   "cell_type": "code",
   "execution_count": null,
   "id": "8fda2080-ed67-40b0-b505-2d2183c713af",
   "metadata": {
    "language": "sql",
    "name": "Part_5__Change_Semantic_View"
   },
   "outputs": [],
   "source": [
    "-- Add synonyms to improve natural language understanding in Cortex Agents\n",
    "\n",
    "USE SCHEMA TKO_APJ_SEMANTIC_VIEW.TPCDS_SF10TCL;\n",
    "\n",
    "CREATE OR REPLACE SEMANTIC VIEW TPCDS_SEMANTIC_VIEW_SM\n",
    "\ttables (\n",
    "\t\tCUSTOMER primary key (C_CUSTOMER_SK),\n",
    "\t\tDATE as DATE_DIM primary key (D_DATE_SK),\n",
    "\t\tDEMO as CUSTOMER_DEMOGRAPHICS primary key (CD_DEMO_SK),\n",
    "\t\tITEM primary key (I_ITEM_SK),\n",
    "\t\tSTORE primary key (S_STORE_SK),\n",
    "\t\tSTORESALES as STORE_SALES\n",
    "        primary key (SS_SOLD_DATE_SK,SS_CDEMO_SK,SS_ITEM_SK,SS_STORE_SK,SS_CUSTOMER_SK)\n",
    "\t)\n",
    "\trelationships (\n",
    "\t\tSALESTOCUSTOMER as STORESALES(SS_CUSTOMER_SK) references CUSTOMER(C_CUSTOMER_SK),\n",
    "\t\tSALESTODATE as STORESALES(SS_SOLD_DATE_SK) references DATE(D_DATE_SK),\n",
    "\t\tSALESTODEMO as STORESALES(SS_CDEMO_SK) references DEMO(CD_DEMO_SK),\n",
    "\t\tSALESTOITEM as STORESALES(SS_ITEM_SK) references ITEM(I_ITEM_SK),\n",
    "\t\tSALETOSTORE as STORESALES(SS_STORE_SK) references STORE(S_STORE_SK)\n",
    "\t)\n",
    "\tfacts (\n",
    "\t\tITEM.COST as i_wholesale_cost,\n",
    "\t\tITEM.PRICE as i_current_price,\n",
    "\t\tSTORE.TAX_RATE as S_TAX_PRECENTAGE,\n",
    "        STORESALES.SALES_QUANTITY as SS_QUANTITY\n",
    "\t)\n",
    "\tdimensions (\n",
    "\t\tCUSTOMER.BIRTHYEAR as C_BIRTH_YEAR,\n",
    "\t\tCUSTOMER.COUNTRY as C_BIRTH_COUNTRY,\n",
    "\t\tCUSTOMER.C_CUSTOMER_SK as c_customer_sk,\n",
    "\t\tDATE.DATE as D_DATE,\n",
    "\t\tDATE.D_DATE_SK as d_date_sk,\n",
    "\t\tDATE.MONTH as D_MOY,\n",
    "\t\tDATE.WEEK as D_WEEK_SEQ,\n",
    "\t\tDATE.YEAR as D_YEAR,\n",
    "\t\tDEMO.CD_DEMO_SK as cd_demo_sk,\n",
    "\t\tDEMO.CREDIT_RATING as CD_CREDIT_RATING,\n",
    "\t\tDEMO.MARITAL_STATUS as CD_MARITAL_STATUS,\n",
    "\n",
    "\t\t-- Add synonyms here to capture common user phrasing.\n",
    "\t\tITEM.BRAND as I_BRAND \n",
    "\t\t\tWITH SYNONYMS = ('edu packunivamalg #7', 'scholarunivamalg #8'),\n",
    "\n",
    "\t\tITEM.CATEGORY as I_CATEGORY,\n",
    "\t\tITEM.CLASS as I_CLASS,\n",
    "\t\tITEM.I_ITEM_SK as i_item_sk,\n",
    "\t\tSTORE.MARKET as S_MARKET_ID,\n",
    "\t\tSTORE.SQUAREFOOTAGE as S_FLOOR_SPACE,\n",
    "\t\tSTORE.STATE as S_STATE,\n",
    "\t\tSTORE.STORECOUNTRY as S_COUNTRY,\n",
    "\t\tSTORE.S_STORE_SK as s_store_sk,\n",
    "\t\tSTORESALES.SS_CDEMO_SK as ss_cdemo_sk,\n",
    "\t\tSTORESALES.SS_CUSTOMER_SK as ss_customer_sk,\n",
    "\t\tSTORESALES.SS_ITEM_SK as ss_item_sk,\n",
    "\t\tSTORESALES.SS_SOLD_DATE_SK as ss_sold_date_sk,\n",
    "\t\tSTORESALES.SS_STORE_SK as ss_store_sk\n",
    "\t)\n",
    "\tmetrics (\n",
    "\t\tSTORESALES.TOTALCOST as SUM(item.cost),\n",
    "\t\tSTORESALES.TOTALSALESPRICE as SUM(SS_SALES_PRICE),\n",
    "\t\tSTORESALES.TOTALSALESQUANTITY as SUM(SS_QUANTITY)\n",
    "            WITH SYNONYMS = ('total sales quantity', 'total sales amount')\n",
    "\t)\n",
    ";"
   ]
  },
  {
   "cell_type": "markdown",
   "id": "641bb149-5e3f-4abf-bcc6-d9a2e21a3df6",
   "metadata": {
    "collapsed": false,
    "name": "Part_5__Conclusion"
   },
   "source": [
    "- Adding synonyms can improve how natural language questions map to your data.\n",
    "- When updating semantic view on CI/CD pipeline, we recommend to update the Semantic View definition directly, Not edit YAML file."
   ]
  },
  {
   "cell_type": "markdown",
   "id": "b14cf12b-91dc-4fe0-b888-1fb1ebc6b432",
   "metadata": {
    "collapsed": false,
    "name": "cell8"
   },
   "source": [
    "## Part 6: Omni Free Trial\n",
    "This optional section provides guidance on starting an Omni free trial so you can visualize and explore your data with your Semantic View."
   ]
  },
  {
   "cell_type": "markdown",
   "id": "f73d8f7a-7a81-4b02-a01f-631ff986be69",
   "metadata": {
    "collapsed": false,
    "name": "cell1"
   },
   "source": [
    "To begin an Omni free trial:\n",
    "1. Visit the Snowflake Marketplace in Snowsight.\n",
    "2. Search for \"Omni\" and select the trial offering.\n",
    "3. Follow the on-screen steps to provision and connect to your Snowflake account.\n",
    "4. Point Omni to the schema containing your Semantic View to start exploring."
   ]
  },
  {
   "cell_type": "markdown",
   "id": "4a244101-9809-4d77-adb8-0ac215057a9f",
   "metadata": {
    "collapsed": false,
    "name": "cell9"
   },
   "source": [
    "## (Optional) Share a Semantic View with Another Snowflake Account\n",
    "This section outlines how to share your Semantic View securely with another Snowflake account."
   ]
  },
  {
   "cell_type": "markdown",
   "id": "1eeb38ad-43a5-4888-aefd-8adfc0746b9a",
   "metadata": {
    "collapsed": false,
    "name": "cell2"
   },
   "source": [
    "Example steps:\n",
    "1. Create or use a data share in your account.\n",
    "2. Grant usage on the database and schema containing the Semantic View to the share.\n",
    "3. Grant reference usage and necessary privileges on underlying objects.\n",
    "4. In the consumer account, create a database from the provider's share and query the Semantic View."
   ]
  }
 ],
 "metadata": {
  "kernelspec": {
   "display_name": "Streamlit Notebook",
   "name": "streamlit"
  },
  "lastEditStatus": {
   "authorEmail": "masato.takada@snowflake.com",
   "authorId": "136547604385",
   "authorName": "ADMIN",
   "lastEditTime": 1759722709344,
   "notebookId": "vpjakxgvlt5ktorz7bnq",
   "sessionId": "deee7c02-c746-4df9-bf69-4593f6b04aa6"
  }
 },
 "nbformat": 4,
 "nbformat_minor": 5
}
